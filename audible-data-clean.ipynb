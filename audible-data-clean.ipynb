{
 "cells": [
  {
   "cell_type": "code",
   "execution_count": 1,
   "id": "27bbfc85",
   "metadata": {
    "_cell_guid": "b1076dfc-b9ad-4769-8c92-a6c4dae69d19",
    "_uuid": "8f2839f25d086af736a60e9eeb907d3b93b6e0e5",
    "execution": {
     "iopub.execute_input": "2023-08-05T13:35:36.456555Z",
     "iopub.status.busy": "2023-08-05T13:35:36.455634Z",
     "iopub.status.idle": "2023-08-05T13:35:36.475471Z",
     "shell.execute_reply": "2023-08-05T13:35:36.474620Z"
    },
    "papermill": {
     "duration": 0.046535,
     "end_time": "2023-08-05T13:35:36.477812",
     "exception": false,
     "start_time": "2023-08-05T13:35:36.431277",
     "status": "completed"
    },
    "tags": []
   },
   "outputs": [
    {
     "name": "stdout",
     "output_type": "stream",
     "text": [
      "/kaggle/input/audible-dataset/audible_cleaned.csv\n",
      "/kaggle/input/audible-dataset/audible_uncleaned.csv\n"
     ]
    }
   ],
   "source": [
    "import os\n",
    "for dirname, _, filenames in os.walk('/kaggle/input'):\n",
    "    for filename in filenames:\n",
    "        print(os.path.join(dirname, filename))"
   ]
  },
  {
   "cell_type": "markdown",
   "id": "fcd3baf6",
   "metadata": {
    "papermill": {
     "duration": 0.021451,
     "end_time": "2023-08-05T13:35:36.522916",
     "exception": false,
     "start_time": "2023-08-05T13:35:36.501465",
     "status": "completed"
    },
    "tags": []
   },
   "source": [
    "# Imports"
   ]
  },
  {
   "cell_type": "code",
   "execution_count": 2,
   "id": "9897ddb3",
   "metadata": {
    "execution": {
     "iopub.execute_input": "2023-08-05T13:35:36.567647Z",
     "iopub.status.busy": "2023-08-05T13:35:36.567199Z",
     "iopub.status.idle": "2023-08-05T13:35:40.502023Z",
     "shell.execute_reply": "2023-08-05T13:35:40.500807Z"
    },
    "papermill": {
     "duration": 3.960785,
     "end_time": "2023-08-05T13:35:40.505109",
     "exception": false,
     "start_time": "2023-08-05T13:35:36.544324",
     "status": "completed"
    },
    "tags": []
   },
   "outputs": [
    {
     "name": "stderr",
     "output_type": "stream",
     "text": [
      "/opt/conda/lib/python3.10/site-packages/scipy/__init__.py:146: UserWarning: A NumPy version >=1.16.5 and <1.23.0 is required for this version of SciPy (detected version 1.23.5\n",
      "  warnings.warn(f\"A NumPy version >={np_minversion} and <{np_maxversion}\"\n"
     ]
    }
   ],
   "source": [
    "import regex as re\n",
    "import numpy as np\n",
    "import pandas as pd\n",
    "import matplotlib.pyplot as plt\n",
    "import seaborn as sns\n",
    "\n",
    "import plotly.graph_objects as go\n",
    "\n",
    "import statsmodels.api as sm\n",
    "from sklearn.feature_selection import mutual_info_regression\n",
    "from sklearn.model_selection import train_test_split\n",
    "from sklearn.ensemble import RandomForestRegressor"
   ]
  },
  {
   "cell_type": "markdown",
   "id": "9b49ea7f",
   "metadata": {
    "papermill": {
     "duration": 0.021535,
     "end_time": "2023-08-05T13:35:40.548588",
     "exception": false,
     "start_time": "2023-08-05T13:35:40.527053",
     "status": "completed"
    },
    "tags": []
   },
   "source": [
    "# Preprocessing"
   ]
  },
  {
   "cell_type": "code",
   "execution_count": 3,
   "id": "960d1cfd",
   "metadata": {
    "execution": {
     "iopub.execute_input": "2023-08-05T13:35:40.593756Z",
     "iopub.status.busy": "2023-08-05T13:35:40.592777Z",
     "iopub.status.idle": "2023-08-05T13:35:41.099626Z",
     "shell.execute_reply": "2023-08-05T13:35:41.098539Z"
    },
    "papermill": {
     "duration": 0.532605,
     "end_time": "2023-08-05T13:35:41.102584",
     "exception": false,
     "start_time": "2023-08-05T13:35:40.569979",
     "status": "completed"
    },
    "tags": []
   },
   "outputs": [
    {
     "data": {
      "text/html": [
       "<div>\n",
       "<style scoped>\n",
       "    .dataframe tbody tr th:only-of-type {\n",
       "        vertical-align: middle;\n",
       "    }\n",
       "\n",
       "    .dataframe tbody tr th {\n",
       "        vertical-align: top;\n",
       "    }\n",
       "\n",
       "    .dataframe thead th {\n",
       "        text-align: right;\n",
       "    }\n",
       "</style>\n",
       "<table border=\"1\" class=\"dataframe\">\n",
       "  <thead>\n",
       "    <tr style=\"text-align: right;\">\n",
       "      <th></th>\n",
       "      <th>name</th>\n",
       "      <th>author</th>\n",
       "      <th>narrator</th>\n",
       "      <th>time</th>\n",
       "      <th>releasedate</th>\n",
       "      <th>language</th>\n",
       "      <th>stars</th>\n",
       "      <th>price</th>\n",
       "    </tr>\n",
       "  </thead>\n",
       "  <tbody>\n",
       "    <tr>\n",
       "      <th>0</th>\n",
       "      <td>Geronimo Stilton #11 &amp; #12</td>\n",
       "      <td>Writtenby:GeronimoStilton</td>\n",
       "      <td>Narratedby:BillLobely</td>\n",
       "      <td>2 hrs and 20 mins</td>\n",
       "      <td>04-08-08</td>\n",
       "      <td>English</td>\n",
       "      <td>5 out of 5 stars34 ratings</td>\n",
       "      <td>468.00</td>\n",
       "    </tr>\n",
       "    <tr>\n",
       "      <th>1</th>\n",
       "      <td>The Burning Maze</td>\n",
       "      <td>Writtenby:RickRiordan</td>\n",
       "      <td>Narratedby:RobbieDaymond</td>\n",
       "      <td>13 hrs and 8 mins</td>\n",
       "      <td>01-05-18</td>\n",
       "      <td>English</td>\n",
       "      <td>4.5 out of 5 stars41 ratings</td>\n",
       "      <td>820.00</td>\n",
       "    </tr>\n",
       "    <tr>\n",
       "      <th>2</th>\n",
       "      <td>The Deep End</td>\n",
       "      <td>Writtenby:JeffKinney</td>\n",
       "      <td>Narratedby:DanRussell</td>\n",
       "      <td>2 hrs and 3 mins</td>\n",
       "      <td>06-11-20</td>\n",
       "      <td>English</td>\n",
       "      <td>4.5 out of 5 stars38 ratings</td>\n",
       "      <td>410.00</td>\n",
       "    </tr>\n",
       "    <tr>\n",
       "      <th>3</th>\n",
       "      <td>Daughter of the Deep</td>\n",
       "      <td>Writtenby:RickRiordan</td>\n",
       "      <td>Narratedby:SoneelaNankani</td>\n",
       "      <td>11 hrs and 16 mins</td>\n",
       "      <td>05-10-21</td>\n",
       "      <td>English</td>\n",
       "      <td>4.5 out of 5 stars12 ratings</td>\n",
       "      <td>615.00</td>\n",
       "    </tr>\n",
       "    <tr>\n",
       "      <th>4</th>\n",
       "      <td>The Lightning Thief: Percy Jackson, Book 1</td>\n",
       "      <td>Writtenby:RickRiordan</td>\n",
       "      <td>Narratedby:JesseBernstein</td>\n",
       "      <td>10 hrs</td>\n",
       "      <td>13-01-10</td>\n",
       "      <td>English</td>\n",
       "      <td>4.5 out of 5 stars181 ratings</td>\n",
       "      <td>820.00</td>\n",
       "    </tr>\n",
       "  </tbody>\n",
       "</table>\n",
       "</div>"
      ],
      "text/plain": [
       "                                         name                     author  \\\n",
       "0                  Geronimo Stilton #11 & #12  Writtenby:GeronimoStilton   \n",
       "1                            The Burning Maze      Writtenby:RickRiordan   \n",
       "2                                The Deep End       Writtenby:JeffKinney   \n",
       "3                        Daughter of the Deep      Writtenby:RickRiordan   \n",
       "4  The Lightning Thief: Percy Jackson, Book 1      Writtenby:RickRiordan   \n",
       "\n",
       "                    narrator                time releasedate language  \\\n",
       "0      Narratedby:BillLobely   2 hrs and 20 mins    04-08-08  English   \n",
       "1   Narratedby:RobbieDaymond   13 hrs and 8 mins    01-05-18  English   \n",
       "2      Narratedby:DanRussell    2 hrs and 3 mins    06-11-20  English   \n",
       "3  Narratedby:SoneelaNankani  11 hrs and 16 mins    05-10-21  English   \n",
       "4  Narratedby:JesseBernstein              10 hrs    13-01-10  English   \n",
       "\n",
       "                           stars   price  \n",
       "0     5 out of 5 stars34 ratings  468.00  \n",
       "1   4.5 out of 5 stars41 ratings  820.00  \n",
       "2   4.5 out of 5 stars38 ratings  410.00  \n",
       "3   4.5 out of 5 stars12 ratings  615.00  \n",
       "4  4.5 out of 5 stars181 ratings  820.00  "
      ]
     },
     "execution_count": 3,
     "metadata": {},
     "output_type": "execute_result"
    }
   ],
   "source": [
    "df = pd.read_csv('/kaggle/input/audible-dataset/audible_uncleaned.csv')\n",
    "df.head()"
   ]
  },
  {
   "cell_type": "code",
   "execution_count": 4,
   "id": "0d7fb6f1",
   "metadata": {
    "execution": {
     "iopub.execute_input": "2023-08-05T13:35:41.148474Z",
     "iopub.status.busy": "2023-08-05T13:35:41.147761Z",
     "iopub.status.idle": "2023-08-05T13:35:41.401560Z",
     "shell.execute_reply": "2023-08-05T13:35:41.400239Z"
    },
    "papermill": {
     "duration": 0.280113,
     "end_time": "2023-08-05T13:35:41.404682",
     "exception": false,
     "start_time": "2023-08-05T13:35:41.124569",
     "status": "completed"
    },
    "tags": []
   },
   "outputs": [
    {
     "name": "stdout",
     "output_type": "stream",
     "text": [
      "<class 'pandas.core.frame.DataFrame'>\n",
      "RangeIndex: 87489 entries, 0 to 87488\n",
      "Data columns (total 8 columns):\n",
      " #   Column       Non-Null Count  Dtype \n",
      "---  ------       --------------  ----- \n",
      " 0   name         87489 non-null  object\n",
      " 1   author       87489 non-null  object\n",
      " 2   narrator     87489 non-null  object\n",
      " 3   time         87489 non-null  object\n",
      " 4   releasedate  87489 non-null  object\n",
      " 5   language     87489 non-null  object\n",
      " 6   stars        87489 non-null  object\n",
      " 7   price        87489 non-null  object\n",
      "dtypes: object(8)\n",
      "memory usage: 5.3+ MB\n"
     ]
    }
   ],
   "source": [
    "df.info()"
   ]
  },
  {
   "cell_type": "markdown",
   "id": "9ebcb314",
   "metadata": {
    "papermill": {
     "duration": 0.021765,
     "end_time": "2023-08-05T13:35:41.448630",
     "exception": false,
     "start_time": "2023-08-05T13:35:41.426865",
     "status": "completed"
    },
    "tags": []
   },
   "source": [
    "**How many unique values are in each col.**"
   ]
  },
  {
   "cell_type": "code",
   "execution_count": 5,
   "id": "6743f525",
   "metadata": {
    "execution": {
     "iopub.execute_input": "2023-08-05T13:35:41.496920Z",
     "iopub.status.busy": "2023-08-05T13:35:41.496523Z",
     "iopub.status.idle": "2023-08-05T13:35:41.625205Z",
     "shell.execute_reply": "2023-08-05T13:35:41.623976Z"
    },
    "papermill": {
     "duration": 0.1564,
     "end_time": "2023-08-05T13:35:41.627866",
     "exception": false,
     "start_time": "2023-08-05T13:35:41.471466",
     "status": "completed"
    },
    "tags": []
   },
   "outputs": [
    {
     "name": "stdout",
     "output_type": "stream",
     "text": [
      "name: 82767\n",
      "author: 48374\n",
      "narrator: 29717\n",
      "time: 2284\n",
      "releasedate: 5058\n",
      "language: 36\n",
      "stars: 665\n",
      "price: 1011\n"
     ]
    }
   ],
   "source": [
    "for col in df.columns:\n",
    "    print(f'{col}: {df[str(col)].nunique()}')"
   ]
  },
  {
   "cell_type": "markdown",
   "id": "3a887a4d",
   "metadata": {
    "papermill": {
     "duration": 0.021755,
     "end_time": "2023-08-05T13:35:41.672425",
     "exception": false,
     "start_time": "2023-08-05T13:35:41.650670",
     "status": "completed"
    },
    "tags": []
   },
   "source": [
    "Remove 'Writtenby:' from the 'author' col."
   ]
  },
  {
   "cell_type": "code",
   "execution_count": 6,
   "id": "e4630554",
   "metadata": {
    "execution": {
     "iopub.execute_input": "2023-08-05T13:35:41.719417Z",
     "iopub.status.busy": "2023-08-05T13:35:41.718357Z",
     "iopub.status.idle": "2023-08-05T13:35:41.743547Z",
     "shell.execute_reply": "2023-08-05T13:35:41.742335Z"
    },
    "papermill": {
     "duration": 0.051115,
     "end_time": "2023-08-05T13:35:41.746062",
     "exception": false,
     "start_time": "2023-08-05T13:35:41.694947",
     "status": "completed"
    },
    "tags": []
   },
   "outputs": [
    {
     "data": {
      "text/plain": [
       "array(['Writtenby:GeronimoStilton', 'Writtenby:RickRiordan',\n",
       "       'Writtenby:JeffKinney', ..., 'Writtenby:RogerW.Thompson',\n",
       "       'Writtenby:ChrisStewart', \"Writtenby:StephenO'Shea\"], dtype=object)"
      ]
     },
     "execution_count": 6,
     "metadata": {},
     "output_type": "execute_result"
    }
   ],
   "source": [
    "df['author'].unique()"
   ]
  },
  {
   "cell_type": "code",
   "execution_count": 7,
   "id": "496c833e",
   "metadata": {
    "execution": {
     "iopub.execute_input": "2023-08-05T13:35:41.792176Z",
     "iopub.status.busy": "2023-08-05T13:35:41.791795Z",
     "iopub.status.idle": "2023-08-05T13:35:41.797452Z",
     "shell.execute_reply": "2023-08-05T13:35:41.796249Z"
    },
    "papermill": {
     "duration": 0.031321,
     "end_time": "2023-08-05T13:35:41.799509",
     "exception": false,
     "start_time": "2023-08-05T13:35:41.768188",
     "status": "completed"
    },
    "tags": []
   },
   "outputs": [],
   "source": [
    "def rem_writby(text):\n",
    "    return ' '.join(re.sub( r\"([A-Z])\", r\" \\1\", text[10:]).split())"
   ]
  },
  {
   "cell_type": "code",
   "execution_count": 8,
   "id": "4d17fb4f",
   "metadata": {
    "execution": {
     "iopub.execute_input": "2023-08-05T13:35:41.846365Z",
     "iopub.status.busy": "2023-08-05T13:35:41.845955Z",
     "iopub.status.idle": "2023-08-05T13:35:43.673490Z",
     "shell.execute_reply": "2023-08-05T13:35:43.672234Z"
    },
    "papermill": {
     "duration": 1.854237,
     "end_time": "2023-08-05T13:35:43.676133",
     "exception": false,
     "start_time": "2023-08-05T13:35:41.821896",
     "status": "completed"
    },
    "tags": []
   },
   "outputs": [
    {
     "data": {
      "text/plain": [
       "['Geronimo Stilton',\n",
       " 'Rick Riordan',\n",
       " 'Jeff Kinney',\n",
       " 'Rick Riordan',\n",
       " 'Rick Riordan',\n",
       " 'Suzanne Collins',\n",
       " 'Winter Morgan',\n",
       " 'Rick Riordan',\n",
       " 'Mary Pope Osborne',\n",
       " 'Rick Riordan']"
      ]
     },
     "execution_count": 8,
     "metadata": {},
     "output_type": "execute_result"
    }
   ],
   "source": [
    "author_list = list()\n",
    "for i in df['author']:\n",
    "    author_list.append(rem_writby(i))\n",
    "author_list[0:10]"
   ]
  },
  {
   "cell_type": "code",
   "execution_count": 9,
   "id": "0d8fe5b6",
   "metadata": {
    "execution": {
     "iopub.execute_input": "2023-08-05T13:35:43.723267Z",
     "iopub.status.busy": "2023-08-05T13:35:43.722846Z",
     "iopub.status.idle": "2023-08-05T13:35:43.765816Z",
     "shell.execute_reply": "2023-08-05T13:35:43.764660Z"
    },
    "papermill": {
     "duration": 0.070279,
     "end_time": "2023-08-05T13:35:43.769087",
     "exception": false,
     "start_time": "2023-08-05T13:35:43.698808",
     "status": "completed"
    },
    "tags": []
   },
   "outputs": [
    {
     "data": {
      "text/html": [
       "<div>\n",
       "<style scoped>\n",
       "    .dataframe tbody tr th:only-of-type {\n",
       "        vertical-align: middle;\n",
       "    }\n",
       "\n",
       "    .dataframe tbody tr th {\n",
       "        vertical-align: top;\n",
       "    }\n",
       "\n",
       "    .dataframe thead th {\n",
       "        text-align: right;\n",
       "    }\n",
       "</style>\n",
       "<table border=\"1\" class=\"dataframe\">\n",
       "  <thead>\n",
       "    <tr style=\"text-align: right;\">\n",
       "      <th></th>\n",
       "      <th>name</th>\n",
       "      <th>author</th>\n",
       "      <th>narrator</th>\n",
       "      <th>time</th>\n",
       "      <th>releasedate</th>\n",
       "      <th>language</th>\n",
       "      <th>stars</th>\n",
       "      <th>price</th>\n",
       "      <th>authors</th>\n",
       "    </tr>\n",
       "  </thead>\n",
       "  <tbody>\n",
       "    <tr>\n",
       "      <th>0</th>\n",
       "      <td>Geronimo Stilton #11 &amp; #12</td>\n",
       "      <td>Writtenby:GeronimoStilton</td>\n",
       "      <td>Narratedby:BillLobely</td>\n",
       "      <td>2 hrs and 20 mins</td>\n",
       "      <td>04-08-08</td>\n",
       "      <td>English</td>\n",
       "      <td>5 out of 5 stars34 ratings</td>\n",
       "      <td>468.00</td>\n",
       "      <td>Geronimo Stilton</td>\n",
       "    </tr>\n",
       "    <tr>\n",
       "      <th>1</th>\n",
       "      <td>The Burning Maze</td>\n",
       "      <td>Writtenby:RickRiordan</td>\n",
       "      <td>Narratedby:RobbieDaymond</td>\n",
       "      <td>13 hrs and 8 mins</td>\n",
       "      <td>01-05-18</td>\n",
       "      <td>English</td>\n",
       "      <td>4.5 out of 5 stars41 ratings</td>\n",
       "      <td>820.00</td>\n",
       "      <td>Rick Riordan</td>\n",
       "    </tr>\n",
       "    <tr>\n",
       "      <th>2</th>\n",
       "      <td>The Deep End</td>\n",
       "      <td>Writtenby:JeffKinney</td>\n",
       "      <td>Narratedby:DanRussell</td>\n",
       "      <td>2 hrs and 3 mins</td>\n",
       "      <td>06-11-20</td>\n",
       "      <td>English</td>\n",
       "      <td>4.5 out of 5 stars38 ratings</td>\n",
       "      <td>410.00</td>\n",
       "      <td>Jeff Kinney</td>\n",
       "    </tr>\n",
       "    <tr>\n",
       "      <th>3</th>\n",
       "      <td>Daughter of the Deep</td>\n",
       "      <td>Writtenby:RickRiordan</td>\n",
       "      <td>Narratedby:SoneelaNankani</td>\n",
       "      <td>11 hrs and 16 mins</td>\n",
       "      <td>05-10-21</td>\n",
       "      <td>English</td>\n",
       "      <td>4.5 out of 5 stars12 ratings</td>\n",
       "      <td>615.00</td>\n",
       "      <td>Rick Riordan</td>\n",
       "    </tr>\n",
       "    <tr>\n",
       "      <th>4</th>\n",
       "      <td>The Lightning Thief: Percy Jackson, Book 1</td>\n",
       "      <td>Writtenby:RickRiordan</td>\n",
       "      <td>Narratedby:JesseBernstein</td>\n",
       "      <td>10 hrs</td>\n",
       "      <td>13-01-10</td>\n",
       "      <td>English</td>\n",
       "      <td>4.5 out of 5 stars181 ratings</td>\n",
       "      <td>820.00</td>\n",
       "      <td>Rick Riordan</td>\n",
       "    </tr>\n",
       "  </tbody>\n",
       "</table>\n",
       "</div>"
      ],
      "text/plain": [
       "                                         name                     author  \\\n",
       "0                  Geronimo Stilton #11 & #12  Writtenby:GeronimoStilton   \n",
       "1                            The Burning Maze      Writtenby:RickRiordan   \n",
       "2                                The Deep End       Writtenby:JeffKinney   \n",
       "3                        Daughter of the Deep      Writtenby:RickRiordan   \n",
       "4  The Lightning Thief: Percy Jackson, Book 1      Writtenby:RickRiordan   \n",
       "\n",
       "                    narrator                time releasedate language  \\\n",
       "0      Narratedby:BillLobely   2 hrs and 20 mins    04-08-08  English   \n",
       "1   Narratedby:RobbieDaymond   13 hrs and 8 mins    01-05-18  English   \n",
       "2      Narratedby:DanRussell    2 hrs and 3 mins    06-11-20  English   \n",
       "3  Narratedby:SoneelaNankani  11 hrs and 16 mins    05-10-21  English   \n",
       "4  Narratedby:JesseBernstein              10 hrs    13-01-10  English   \n",
       "\n",
       "                           stars   price           authors  \n",
       "0     5 out of 5 stars34 ratings  468.00  Geronimo Stilton  \n",
       "1   4.5 out of 5 stars41 ratings  820.00      Rick Riordan  \n",
       "2   4.5 out of 5 stars38 ratings  410.00       Jeff Kinney  \n",
       "3   4.5 out of 5 stars12 ratings  615.00      Rick Riordan  \n",
       "4  4.5 out of 5 stars181 ratings  820.00      Rick Riordan  "
      ]
     },
     "execution_count": 9,
     "metadata": {},
     "output_type": "execute_result"
    }
   ],
   "source": [
    "author_series = pd.Series(author_list)\n",
    "# Replaces non 'Mon Year - Mon Year' Aired' values with NaN values\n",
    "df = df.assign(authors = author_series)\n",
    "df.head()"
   ]
  },
  {
   "cell_type": "code",
   "execution_count": 10,
   "id": "7eb28ed9",
   "metadata": {
    "execution": {
     "iopub.execute_input": "2023-08-05T13:35:43.819956Z",
     "iopub.status.busy": "2023-08-05T13:35:43.817826Z",
     "iopub.status.idle": "2023-08-05T13:35:43.836096Z",
     "shell.execute_reply": "2023-08-05T13:35:43.835026Z"
    },
    "papermill": {
     "duration": 0.04477,
     "end_time": "2023-08-05T13:35:43.838858",
     "exception": false,
     "start_time": "2023-08-05T13:35:43.794088",
     "status": "completed"
    },
    "tags": []
   },
   "outputs": [],
   "source": [
    "df = df.drop('author', axis = 1)"
   ]
  },
  {
   "cell_type": "markdown",
   "id": "f23e33f3",
   "metadata": {
    "papermill": {
     "duration": 0.023189,
     "end_time": "2023-08-05T13:35:43.884866",
     "exception": false,
     "start_time": "2023-08-05T13:35:43.861677",
     "status": "completed"
    },
    "tags": []
   },
   "source": [
    "**Removing 'Narratedby:' from 'narrator' col.**"
   ]
  },
  {
   "cell_type": "code",
   "execution_count": 11,
   "id": "73903d5c",
   "metadata": {
    "execution": {
     "iopub.execute_input": "2023-08-05T13:35:43.934519Z",
     "iopub.status.busy": "2023-08-05T13:35:43.933406Z",
     "iopub.status.idle": "2023-08-05T13:35:43.957445Z",
     "shell.execute_reply": "2023-08-05T13:35:43.956278Z"
    },
    "papermill": {
     "duration": 0.051432,
     "end_time": "2023-08-05T13:35:43.960261",
     "exception": false,
     "start_time": "2023-08-05T13:35:43.908829",
     "status": "completed"
    },
    "tags": []
   },
   "outputs": [
    {
     "data": {
      "text/plain": [
       "array(['Narratedby:BillLobely', 'Narratedby:RobbieDaymond',\n",
       "       'Narratedby:DanRussell', ..., 'Narratedby:JeanMarsh',\n",
       "       'Narratedby:McAvoyLayne', 'Narratedby:ChrisStewart'], dtype=object)"
      ]
     },
     "execution_count": 11,
     "metadata": {},
     "output_type": "execute_result"
    }
   ],
   "source": [
    "df['narrator'].unique()"
   ]
  },
  {
   "cell_type": "code",
   "execution_count": 12,
   "id": "55f6d534",
   "metadata": {
    "execution": {
     "iopub.execute_input": "2023-08-05T13:35:44.007909Z",
     "iopub.status.busy": "2023-08-05T13:35:44.007443Z",
     "iopub.status.idle": "2023-08-05T13:35:44.012513Z",
     "shell.execute_reply": "2023-08-05T13:35:44.011581Z"
    },
    "papermill": {
     "duration": 0.031746,
     "end_time": "2023-08-05T13:35:44.014874",
     "exception": false,
     "start_time": "2023-08-05T13:35:43.983128",
     "status": "completed"
    },
    "tags": []
   },
   "outputs": [],
   "source": [
    "def rem_natby(text):\n",
    "    return ' '.join(re.sub( r\"([A-Z])\", r\" \\1\", text[11:]).split())"
   ]
  },
  {
   "cell_type": "code",
   "execution_count": 13,
   "id": "fc12daf7",
   "metadata": {
    "execution": {
     "iopub.execute_input": "2023-08-05T13:35:44.062532Z",
     "iopub.status.busy": "2023-08-05T13:35:44.061696Z",
     "iopub.status.idle": "2023-08-05T13:35:45.855072Z",
     "shell.execute_reply": "2023-08-05T13:35:45.854036Z"
    },
    "papermill": {
     "duration": 1.819996,
     "end_time": "2023-08-05T13:35:45.857691",
     "exception": false,
     "start_time": "2023-08-05T13:35:44.037695",
     "status": "completed"
    },
    "tags": []
   },
   "outputs": [],
   "source": [
    "nat_list = list()\n",
    "for i in df['narrator']:\n",
    "    nat_list.append(rem_natby(i))"
   ]
  },
  {
   "cell_type": "code",
   "execution_count": 14,
   "id": "624d4a85",
   "metadata": {
    "execution": {
     "iopub.execute_input": "2023-08-05T13:35:45.907139Z",
     "iopub.status.busy": "2023-08-05T13:35:45.906428Z",
     "iopub.status.idle": "2023-08-05T13:35:45.977641Z",
     "shell.execute_reply": "2023-08-05T13:35:45.976303Z"
    },
    "papermill": {
     "duration": 0.098659,
     "end_time": "2023-08-05T13:35:45.980311",
     "exception": false,
     "start_time": "2023-08-05T13:35:45.881652",
     "status": "completed"
    },
    "tags": []
   },
   "outputs": [
    {
     "data": {
      "text/html": [
       "<div>\n",
       "<style scoped>\n",
       "    .dataframe tbody tr th:only-of-type {\n",
       "        vertical-align: middle;\n",
       "    }\n",
       "\n",
       "    .dataframe tbody tr th {\n",
       "        vertical-align: top;\n",
       "    }\n",
       "\n",
       "    .dataframe thead th {\n",
       "        text-align: right;\n",
       "    }\n",
       "</style>\n",
       "<table border=\"1\" class=\"dataframe\">\n",
       "  <thead>\n",
       "    <tr style=\"text-align: right;\">\n",
       "      <th></th>\n",
       "      <th>name</th>\n",
       "      <th>narrator</th>\n",
       "      <th>time</th>\n",
       "      <th>releasedate</th>\n",
       "      <th>language</th>\n",
       "      <th>stars</th>\n",
       "      <th>price</th>\n",
       "      <th>authors</th>\n",
       "      <th>narrators</th>\n",
       "    </tr>\n",
       "  </thead>\n",
       "  <tbody>\n",
       "    <tr>\n",
       "      <th>0</th>\n",
       "      <td>Geronimo Stilton #11 &amp; #12</td>\n",
       "      <td>Narratedby:BillLobely</td>\n",
       "      <td>2 hrs and 20 mins</td>\n",
       "      <td>04-08-08</td>\n",
       "      <td>English</td>\n",
       "      <td>5 out of 5 stars34 ratings</td>\n",
       "      <td>468.00</td>\n",
       "      <td>Geronimo Stilton</td>\n",
       "      <td>Bill Lobely</td>\n",
       "    </tr>\n",
       "    <tr>\n",
       "      <th>1</th>\n",
       "      <td>The Burning Maze</td>\n",
       "      <td>Narratedby:RobbieDaymond</td>\n",
       "      <td>13 hrs and 8 mins</td>\n",
       "      <td>01-05-18</td>\n",
       "      <td>English</td>\n",
       "      <td>4.5 out of 5 stars41 ratings</td>\n",
       "      <td>820.00</td>\n",
       "      <td>Rick Riordan</td>\n",
       "      <td>Robbie Daymond</td>\n",
       "    </tr>\n",
       "    <tr>\n",
       "      <th>2</th>\n",
       "      <td>The Deep End</td>\n",
       "      <td>Narratedby:DanRussell</td>\n",
       "      <td>2 hrs and 3 mins</td>\n",
       "      <td>06-11-20</td>\n",
       "      <td>English</td>\n",
       "      <td>4.5 out of 5 stars38 ratings</td>\n",
       "      <td>410.00</td>\n",
       "      <td>Jeff Kinney</td>\n",
       "      <td>Dan Russell</td>\n",
       "    </tr>\n",
       "    <tr>\n",
       "      <th>3</th>\n",
       "      <td>Daughter of the Deep</td>\n",
       "      <td>Narratedby:SoneelaNankani</td>\n",
       "      <td>11 hrs and 16 mins</td>\n",
       "      <td>05-10-21</td>\n",
       "      <td>English</td>\n",
       "      <td>4.5 out of 5 stars12 ratings</td>\n",
       "      <td>615.00</td>\n",
       "      <td>Rick Riordan</td>\n",
       "      <td>Soneela Nankani</td>\n",
       "    </tr>\n",
       "    <tr>\n",
       "      <th>4</th>\n",
       "      <td>The Lightning Thief: Percy Jackson, Book 1</td>\n",
       "      <td>Narratedby:JesseBernstein</td>\n",
       "      <td>10 hrs</td>\n",
       "      <td>13-01-10</td>\n",
       "      <td>English</td>\n",
       "      <td>4.5 out of 5 stars181 ratings</td>\n",
       "      <td>820.00</td>\n",
       "      <td>Rick Riordan</td>\n",
       "      <td>Jesse Bernstein</td>\n",
       "    </tr>\n",
       "  </tbody>\n",
       "</table>\n",
       "</div>"
      ],
      "text/plain": [
       "                                         name                   narrator  \\\n",
       "0                  Geronimo Stilton #11 & #12      Narratedby:BillLobely   \n",
       "1                            The Burning Maze   Narratedby:RobbieDaymond   \n",
       "2                                The Deep End      Narratedby:DanRussell   \n",
       "3                        Daughter of the Deep  Narratedby:SoneelaNankani   \n",
       "4  The Lightning Thief: Percy Jackson, Book 1  Narratedby:JesseBernstein   \n",
       "\n",
       "                 time releasedate language                          stars  \\\n",
       "0   2 hrs and 20 mins    04-08-08  English     5 out of 5 stars34 ratings   \n",
       "1   13 hrs and 8 mins    01-05-18  English   4.5 out of 5 stars41 ratings   \n",
       "2    2 hrs and 3 mins    06-11-20  English   4.5 out of 5 stars38 ratings   \n",
       "3  11 hrs and 16 mins    05-10-21  English   4.5 out of 5 stars12 ratings   \n",
       "4              10 hrs    13-01-10  English  4.5 out of 5 stars181 ratings   \n",
       "\n",
       "    price           authors        narrators  \n",
       "0  468.00  Geronimo Stilton      Bill Lobely  \n",
       "1  820.00      Rick Riordan   Robbie Daymond  \n",
       "2  410.00       Jeff Kinney      Dan Russell  \n",
       "3  615.00      Rick Riordan  Soneela Nankani  \n",
       "4  820.00      Rick Riordan  Jesse Bernstein  "
      ]
     },
     "execution_count": 14,
     "metadata": {},
     "output_type": "execute_result"
    }
   ],
   "source": [
    "nat_series = pd.Series(nat_list)\n",
    "# Replaces non 'Mon Year - Mon Year' Aired' values with NaN values\n",
    "df = df.assign(narrators = nat_series)\n",
    "df.head()"
   ]
  },
  {
   "cell_type": "markdown",
   "id": "58d69d1d",
   "metadata": {
    "papermill": {
     "duration": 0.022577,
     "end_time": "2023-08-05T13:35:46.026151",
     "exception": false,
     "start_time": "2023-08-05T13:35:46.003574",
     "status": "completed"
    },
    "tags": []
   },
   "source": [
    "**Changing 'Less than 1 minute' to half a minute**"
   ]
  },
  {
   "cell_type": "code",
   "execution_count": 15,
   "id": "090c4635",
   "metadata": {
    "execution": {
     "iopub.execute_input": "2023-08-05T13:35:46.074420Z",
     "iopub.status.busy": "2023-08-05T13:35:46.073653Z",
     "iopub.status.idle": "2023-08-05T13:35:46.468753Z",
     "shell.execute_reply": "2023-08-05T13:35:46.467544Z"
    },
    "papermill": {
     "duration": 0.422269,
     "end_time": "2023-08-05T13:35:46.471461",
     "exception": false,
     "start_time": "2023-08-05T13:35:46.049192",
     "status": "completed"
    },
    "tags": []
   },
   "outputs": [],
   "source": [
    "df = df.replace(['Less than 1 minute'], '1')"
   ]
  },
  {
   "cell_type": "code",
   "execution_count": 16,
   "id": "ff09a63c",
   "metadata": {
    "execution": {
     "iopub.execute_input": "2023-08-05T13:35:46.520964Z",
     "iopub.status.busy": "2023-08-05T13:35:46.520555Z",
     "iopub.status.idle": "2023-08-05T13:35:46.547523Z",
     "shell.execute_reply": "2023-08-05T13:35:46.546315Z"
    },
    "papermill": {
     "duration": 0.054653,
     "end_time": "2023-08-05T13:35:46.550210",
     "exception": false,
     "start_time": "2023-08-05T13:35:46.495557",
     "status": "completed"
    },
    "tags": []
   },
   "outputs": [
    {
     "data": {
      "text/html": [
       "<div>\n",
       "<style scoped>\n",
       "    .dataframe tbody tr th:only-of-type {\n",
       "        vertical-align: middle;\n",
       "    }\n",
       "\n",
       "    .dataframe tbody tr th {\n",
       "        vertical-align: top;\n",
       "    }\n",
       "\n",
       "    .dataframe thead th {\n",
       "        text-align: right;\n",
       "    }\n",
       "</style>\n",
       "<table border=\"1\" class=\"dataframe\">\n",
       "  <thead>\n",
       "    <tr style=\"text-align: right;\">\n",
       "      <th></th>\n",
       "      <th>name</th>\n",
       "      <th>narrator</th>\n",
       "      <th>time</th>\n",
       "      <th>releasedate</th>\n",
       "      <th>language</th>\n",
       "      <th>stars</th>\n",
       "      <th>price</th>\n",
       "      <th>authors</th>\n",
       "      <th>narrators</th>\n",
       "    </tr>\n",
       "  </thead>\n",
       "  <tbody>\n",
       "  </tbody>\n",
       "</table>\n",
       "</div>"
      ],
      "text/plain": [
       "Empty DataFrame\n",
       "Columns: [name, narrator, time, releasedate, language, stars, price, authors, narrators]\n",
       "Index: []"
      ]
     },
     "execution_count": 16,
     "metadata": {},
     "output_type": "execute_result"
    }
   ],
   "source": [
    "df.loc[df['time'] == 'Less than 1 minute']"
   ]
  },
  {
   "cell_type": "code",
   "execution_count": 17,
   "id": "6ae52b2b",
   "metadata": {
    "execution": {
     "iopub.execute_input": "2023-08-05T13:35:46.599625Z",
     "iopub.status.busy": "2023-08-05T13:35:46.599179Z",
     "iopub.status.idle": "2023-08-05T13:35:46.616401Z",
     "shell.execute_reply": "2023-08-05T13:35:46.615309Z"
    },
    "papermill": {
     "duration": 0.04511,
     "end_time": "2023-08-05T13:35:46.619302",
     "exception": false,
     "start_time": "2023-08-05T13:35:46.574192",
     "status": "completed"
    },
    "tags": []
   },
   "outputs": [],
   "source": [
    "df = df.drop('narrator',axis = 1)"
   ]
  },
  {
   "cell_type": "markdown",
   "id": "33b05832",
   "metadata": {
    "papermill": {
     "duration": 0.022931,
     "end_time": "2023-08-05T13:35:46.665968",
     "exception": false,
     "start_time": "2023-08-05T13:35:46.643037",
     "status": "completed"
    },
    "tags": []
   },
   "source": [
    "Change all values in the 'time' col. to be minutes"
   ]
  },
  {
   "cell_type": "markdown",
   "id": "070fef4b",
   "metadata": {
    "papermill": {
     "duration": 0.023441,
     "end_time": "2023-08-05T13:35:46.712692",
     "exception": false,
     "start_time": "2023-08-05T13:35:46.689251",
     "status": "completed"
    },
    "tags": []
   },
   "source": [
    "**Functions for altering 'time' col.**"
   ]
  },
  {
   "cell_type": "code",
   "execution_count": 18,
   "id": "6ac46051",
   "metadata": {
    "execution": {
     "iopub.execute_input": "2023-08-05T13:35:46.761027Z",
     "iopub.status.busy": "2023-08-05T13:35:46.760605Z",
     "iopub.status.idle": "2023-08-05T13:35:46.771363Z",
     "shell.execute_reply": "2023-08-05T13:35:46.770524Z"
    },
    "papermill": {
     "duration": 0.037567,
     "end_time": "2023-08-05T13:35:46.773543",
     "exception": false,
     "start_time": "2023-08-05T13:35:46.735976",
     "status": "completed"
    },
    "tags": []
   },
   "outputs": [],
   "source": [
    "def rm_mins(text):\n",
    "    text.remove('mins')\n",
    "    return text\n",
    "    \n",
    "def rm_min(text):\n",
    "    text.remove('min')\n",
    "    return text  \n",
    "\n",
    "def sixty_hr(text):\n",
    "    text[text.index('hr')] = '60'\n",
    "    return text\n",
    "\n",
    "def sixty_hrs(text):\n",
    "    text[text.index('hrs')] = '60'\n",
    "    return text"
   ]
  },
  {
   "cell_type": "code",
   "execution_count": 19,
   "id": "25d801fd",
   "metadata": {
    "execution": {
     "iopub.execute_input": "2023-08-05T13:35:46.823340Z",
     "iopub.status.busy": "2023-08-05T13:35:46.822896Z",
     "iopub.status.idle": "2023-08-05T13:35:47.231439Z",
     "shell.execute_reply": "2023-08-05T13:35:47.230162Z"
    },
    "papermill": {
     "duration": 0.436444,
     "end_time": "2023-08-05T13:35:47.234237",
     "exception": false,
     "start_time": "2023-08-05T13:35:46.797793",
     "status": "completed"
    },
    "tags": []
   },
   "outputs": [],
   "source": [
    "time_list = list()\n",
    "\n",
    "for i in df['time']:\n",
    "    i = i.split()\n",
    "    # Removes 'mins' or 'min' from the text\n",
    "    if 'mins' in i:\n",
    "        i = rm_mins(i)\n",
    "    elif 'min' in i:\n",
    "        i = rm_min(i)\n",
    "    # Transforms 'hr' or 'hrs' into int(60)\n",
    "    if 'hr' in i:\n",
    "        i = sixty_hr(i)\n",
    "    elif 'hrs' in i:\n",
    "        i = sixty_hrs(i)\n",
    "        \n",
    "    try:\n",
    "        i.remove('and')\n",
    "        time_list.append(i)\n",
    "    except ValueError:\n",
    "        time_list.append(i)"
   ]
  },
  {
   "cell_type": "code",
   "execution_count": 20,
   "id": "58611feb",
   "metadata": {
    "execution": {
     "iopub.execute_input": "2023-08-05T13:35:47.283906Z",
     "iopub.status.busy": "2023-08-05T13:35:47.283458Z",
     "iopub.status.idle": "2023-08-05T13:35:47.396699Z",
     "shell.execute_reply": "2023-08-05T13:35:47.395361Z"
    },
    "papermill": {
     "duration": 0.141983,
     "end_time": "2023-08-05T13:35:47.399499",
     "exception": false,
     "start_time": "2023-08-05T13:35:47.257516",
     "status": "completed"
    },
    "tags": []
   },
   "outputs": [],
   "source": [
    "output = list()\n",
    "\n",
    "for i in time_list:\n",
    "    if '60' in i:\n",
    "        output.append((int(i[i.index('60') - 1]) * int(60)) + int(i[-1]))\n",
    "    else:\n",
    "        output.append(int(i[0]))"
   ]
  },
  {
   "cell_type": "code",
   "execution_count": 21,
   "id": "4cf66524",
   "metadata": {
    "execution": {
     "iopub.execute_input": "2023-08-05T13:35:47.448554Z",
     "iopub.status.busy": "2023-08-05T13:35:47.448098Z",
     "iopub.status.idle": "2023-08-05T13:35:47.526835Z",
     "shell.execute_reply": "2023-08-05T13:35:47.525917Z"
    },
    "papermill": {
     "duration": 0.106137,
     "end_time": "2023-08-05T13:35:47.529048",
     "exception": false,
     "start_time": "2023-08-05T13:35:47.422911",
     "status": "completed"
    },
    "tags": []
   },
   "outputs": [
    {
     "data": {
      "text/html": [
       "<div>\n",
       "<style scoped>\n",
       "    .dataframe tbody tr th:only-of-type {\n",
       "        vertical-align: middle;\n",
       "    }\n",
       "\n",
       "    .dataframe tbody tr th {\n",
       "        vertical-align: top;\n",
       "    }\n",
       "\n",
       "    .dataframe thead th {\n",
       "        text-align: right;\n",
       "    }\n",
       "</style>\n",
       "<table border=\"1\" class=\"dataframe\">\n",
       "  <thead>\n",
       "    <tr style=\"text-align: right;\">\n",
       "      <th></th>\n",
       "      <th>name</th>\n",
       "      <th>time</th>\n",
       "      <th>releasedate</th>\n",
       "      <th>language</th>\n",
       "      <th>stars</th>\n",
       "      <th>price</th>\n",
       "      <th>authors</th>\n",
       "      <th>narrators</th>\n",
       "      <th>audible_length_m</th>\n",
       "    </tr>\n",
       "  </thead>\n",
       "  <tbody>\n",
       "    <tr>\n",
       "      <th>0</th>\n",
       "      <td>Geronimo Stilton #11 &amp; #12</td>\n",
       "      <td>2 hrs and 20 mins</td>\n",
       "      <td>04-08-08</td>\n",
       "      <td>English</td>\n",
       "      <td>5 out of 5 stars34 ratings</td>\n",
       "      <td>468.00</td>\n",
       "      <td>Geronimo Stilton</td>\n",
       "      <td>Bill Lobely</td>\n",
       "      <td>140</td>\n",
       "    </tr>\n",
       "    <tr>\n",
       "      <th>1</th>\n",
       "      <td>The Burning Maze</td>\n",
       "      <td>13 hrs and 8 mins</td>\n",
       "      <td>01-05-18</td>\n",
       "      <td>English</td>\n",
       "      <td>4.5 out of 5 stars41 ratings</td>\n",
       "      <td>820.00</td>\n",
       "      <td>Rick Riordan</td>\n",
       "      <td>Robbie Daymond</td>\n",
       "      <td>788</td>\n",
       "    </tr>\n",
       "    <tr>\n",
       "      <th>2</th>\n",
       "      <td>The Deep End</td>\n",
       "      <td>2 hrs and 3 mins</td>\n",
       "      <td>06-11-20</td>\n",
       "      <td>English</td>\n",
       "      <td>4.5 out of 5 stars38 ratings</td>\n",
       "      <td>410.00</td>\n",
       "      <td>Jeff Kinney</td>\n",
       "      <td>Dan Russell</td>\n",
       "      <td>123</td>\n",
       "    </tr>\n",
       "    <tr>\n",
       "      <th>3</th>\n",
       "      <td>Daughter of the Deep</td>\n",
       "      <td>11 hrs and 16 mins</td>\n",
       "      <td>05-10-21</td>\n",
       "      <td>English</td>\n",
       "      <td>4.5 out of 5 stars12 ratings</td>\n",
       "      <td>615.00</td>\n",
       "      <td>Rick Riordan</td>\n",
       "      <td>Soneela Nankani</td>\n",
       "      <td>676</td>\n",
       "    </tr>\n",
       "    <tr>\n",
       "      <th>4</th>\n",
       "      <td>The Lightning Thief: Percy Jackson, Book 1</td>\n",
       "      <td>10 hrs</td>\n",
       "      <td>13-01-10</td>\n",
       "      <td>English</td>\n",
       "      <td>4.5 out of 5 stars181 ratings</td>\n",
       "      <td>820.00</td>\n",
       "      <td>Rick Riordan</td>\n",
       "      <td>Jesse Bernstein</td>\n",
       "      <td>660</td>\n",
       "    </tr>\n",
       "  </tbody>\n",
       "</table>\n",
       "</div>"
      ],
      "text/plain": [
       "                                         name                time releasedate  \\\n",
       "0                  Geronimo Stilton #11 & #12   2 hrs and 20 mins    04-08-08   \n",
       "1                            The Burning Maze   13 hrs and 8 mins    01-05-18   \n",
       "2                                The Deep End    2 hrs and 3 mins    06-11-20   \n",
       "3                        Daughter of the Deep  11 hrs and 16 mins    05-10-21   \n",
       "4  The Lightning Thief: Percy Jackson, Book 1              10 hrs    13-01-10   \n",
       "\n",
       "  language                          stars   price           authors  \\\n",
       "0  English     5 out of 5 stars34 ratings  468.00  Geronimo Stilton   \n",
       "1  English   4.5 out of 5 stars41 ratings  820.00      Rick Riordan   \n",
       "2  English   4.5 out of 5 stars38 ratings  410.00       Jeff Kinney   \n",
       "3  English   4.5 out of 5 stars12 ratings  615.00      Rick Riordan   \n",
       "4  English  4.5 out of 5 stars181 ratings  820.00      Rick Riordan   \n",
       "\n",
       "         narrators  audible_length_m  \n",
       "0      Bill Lobely               140  \n",
       "1   Robbie Daymond               788  \n",
       "2      Dan Russell               123  \n",
       "3  Soneela Nankani               676  \n",
       "4  Jesse Bernstein               660  "
      ]
     },
     "execution_count": 21,
     "metadata": {},
     "output_type": "execute_result"
    }
   ],
   "source": [
    "# Assigns the values to a list and then to a series\n",
    "time = pd.Series(output)\n",
    "# Adds a ability 1 col.\n",
    "df = df.assign(audible_length_m = time)\n",
    "df.head()"
   ]
  },
  {
   "cell_type": "code",
   "execution_count": 22,
   "id": "c41b147d",
   "metadata": {
    "execution": {
     "iopub.execute_input": "2023-08-05T13:35:47.579614Z",
     "iopub.status.busy": "2023-08-05T13:35:47.578900Z",
     "iopub.status.idle": "2023-08-05T13:35:47.593022Z",
     "shell.execute_reply": "2023-08-05T13:35:47.591742Z"
    },
    "papermill": {
     "duration": 0.042374,
     "end_time": "2023-08-05T13:35:47.595837",
     "exception": false,
     "start_time": "2023-08-05T13:35:47.553463",
     "status": "completed"
    },
    "tags": []
   },
   "outputs": [],
   "source": [
    "df = df.drop('time', axis = 1)"
   ]
  },
  {
   "cell_type": "markdown",
   "id": "10fbd98e",
   "metadata": {
    "papermill": {
     "duration": 0.023563,
     "end_time": "2023-08-05T13:35:47.643614",
     "exception": false,
     "start_time": "2023-08-05T13:35:47.620051",
     "status": "completed"
    },
    "tags": []
   },
   "source": [
    "**Create a rating and number of raters col. **"
   ]
  },
  {
   "cell_type": "code",
   "execution_count": 23,
   "id": "1813e1f8",
   "metadata": {
    "execution": {
     "iopub.execute_input": "2023-08-05T13:35:47.693775Z",
     "iopub.status.busy": "2023-08-05T13:35:47.692555Z",
     "iopub.status.idle": "2023-08-05T13:35:47.707090Z",
     "shell.execute_reply": "2023-08-05T13:35:47.705918Z"
    },
    "papermill": {
     "duration": 0.042271,
     "end_time": "2023-08-05T13:35:47.709616",
     "exception": false,
     "start_time": "2023-08-05T13:35:47.667345",
     "status": "completed"
    },
    "tags": []
   },
   "outputs": [
    {
     "data": {
      "text/html": [
       "<div>\n",
       "<style scoped>\n",
       "    .dataframe tbody tr th:only-of-type {\n",
       "        vertical-align: middle;\n",
       "    }\n",
       "\n",
       "    .dataframe tbody tr th {\n",
       "        vertical-align: top;\n",
       "    }\n",
       "\n",
       "    .dataframe thead th {\n",
       "        text-align: right;\n",
       "    }\n",
       "</style>\n",
       "<table border=\"1\" class=\"dataframe\">\n",
       "  <thead>\n",
       "    <tr style=\"text-align: right;\">\n",
       "      <th></th>\n",
       "      <th>name</th>\n",
       "      <th>releasedate</th>\n",
       "      <th>language</th>\n",
       "      <th>stars</th>\n",
       "      <th>price</th>\n",
       "      <th>authors</th>\n",
       "      <th>narrators</th>\n",
       "      <th>audible_length_m</th>\n",
       "    </tr>\n",
       "  </thead>\n",
       "  <tbody>\n",
       "    <tr>\n",
       "      <th>0</th>\n",
       "      <td>Geronimo Stilton #11 &amp; #12</td>\n",
       "      <td>04-08-08</td>\n",
       "      <td>English</td>\n",
       "      <td>5 out of 5 stars34 ratings</td>\n",
       "      <td>468.00</td>\n",
       "      <td>Geronimo Stilton</td>\n",
       "      <td>Bill Lobely</td>\n",
       "      <td>140</td>\n",
       "    </tr>\n",
       "    <tr>\n",
       "      <th>1</th>\n",
       "      <td>The Burning Maze</td>\n",
       "      <td>01-05-18</td>\n",
       "      <td>English</td>\n",
       "      <td>4.5 out of 5 stars41 ratings</td>\n",
       "      <td>820.00</td>\n",
       "      <td>Rick Riordan</td>\n",
       "      <td>Robbie Daymond</td>\n",
       "      <td>788</td>\n",
       "    </tr>\n",
       "    <tr>\n",
       "      <th>2</th>\n",
       "      <td>The Deep End</td>\n",
       "      <td>06-11-20</td>\n",
       "      <td>English</td>\n",
       "      <td>4.5 out of 5 stars38 ratings</td>\n",
       "      <td>410.00</td>\n",
       "      <td>Jeff Kinney</td>\n",
       "      <td>Dan Russell</td>\n",
       "      <td>123</td>\n",
       "    </tr>\n",
       "    <tr>\n",
       "      <th>3</th>\n",
       "      <td>Daughter of the Deep</td>\n",
       "      <td>05-10-21</td>\n",
       "      <td>English</td>\n",
       "      <td>4.5 out of 5 stars12 ratings</td>\n",
       "      <td>615.00</td>\n",
       "      <td>Rick Riordan</td>\n",
       "      <td>Soneela Nankani</td>\n",
       "      <td>676</td>\n",
       "    </tr>\n",
       "    <tr>\n",
       "      <th>4</th>\n",
       "      <td>The Lightning Thief: Percy Jackson, Book 1</td>\n",
       "      <td>13-01-10</td>\n",
       "      <td>English</td>\n",
       "      <td>4.5 out of 5 stars181 ratings</td>\n",
       "      <td>820.00</td>\n",
       "      <td>Rick Riordan</td>\n",
       "      <td>Jesse Bernstein</td>\n",
       "      <td>660</td>\n",
       "    </tr>\n",
       "  </tbody>\n",
       "</table>\n",
       "</div>"
      ],
      "text/plain": [
       "                                         name releasedate language  \\\n",
       "0                  Geronimo Stilton #11 & #12    04-08-08  English   \n",
       "1                            The Burning Maze    01-05-18  English   \n",
       "2                                The Deep End    06-11-20  English   \n",
       "3                        Daughter of the Deep    05-10-21  English   \n",
       "4  The Lightning Thief: Percy Jackson, Book 1    13-01-10  English   \n",
       "\n",
       "                           stars   price           authors        narrators  \\\n",
       "0     5 out of 5 stars34 ratings  468.00  Geronimo Stilton      Bill Lobely   \n",
       "1   4.5 out of 5 stars41 ratings  820.00      Rick Riordan   Robbie Daymond   \n",
       "2   4.5 out of 5 stars38 ratings  410.00       Jeff Kinney      Dan Russell   \n",
       "3   4.5 out of 5 stars12 ratings  615.00      Rick Riordan  Soneela Nankani   \n",
       "4  4.5 out of 5 stars181 ratings  820.00      Rick Riordan  Jesse Bernstein   \n",
       "\n",
       "   audible_length_m  \n",
       "0               140  \n",
       "1               788  \n",
       "2               123  \n",
       "3               676  \n",
       "4               660  "
      ]
     },
     "execution_count": 23,
     "metadata": {},
     "output_type": "execute_result"
    }
   ],
   "source": [
    "df.head()"
   ]
  },
  {
   "cell_type": "code",
   "execution_count": 24,
   "id": "7ba64f43",
   "metadata": {
    "execution": {
     "iopub.execute_input": "2023-08-05T13:35:47.761669Z",
     "iopub.status.busy": "2023-08-05T13:35:47.760870Z",
     "iopub.status.idle": "2023-08-05T13:35:47.766756Z",
     "shell.execute_reply": "2023-08-05T13:35:47.765852Z"
    },
    "papermill": {
     "duration": 0.034093,
     "end_time": "2023-08-05T13:35:47.769234",
     "exception": false,
     "start_time": "2023-08-05T13:35:47.735141",
     "status": "completed"
    },
    "tags": []
   },
   "outputs": [],
   "source": [
    "def rm_num(text):\n",
    "    return re.findall(r'\\d+', text)"
   ]
  },
  {
   "cell_type": "code",
   "execution_count": 25,
   "id": "684b27ee",
   "metadata": {
    "execution": {
     "iopub.execute_input": "2023-08-05T13:35:47.820112Z",
     "iopub.status.busy": "2023-08-05T13:35:47.819717Z",
     "iopub.status.idle": "2023-08-05T13:35:49.285846Z",
     "shell.execute_reply": "2023-08-05T13:35:49.284655Z"
    },
    "papermill": {
     "duration": 1.494229,
     "end_time": "2023-08-05T13:35:49.288220",
     "exception": false,
     "start_time": "2023-08-05T13:35:47.793991",
     "status": "completed"
    },
    "tags": []
   },
   "outputs": [
    {
     "data": {
      "text/plain": [
       "[['5', '5', '34'],\n",
       " ['4', '5', '5', '41'],\n",
       " ['4', '5', '5', '38'],\n",
       " ['4', '5', '5', '12'],\n",
       " ['4', '5', '5', '181'],\n",
       " ['5', '5', '72'],\n",
       " ['5', '5', '11'],\n",
       " ['5', '5', '50'],\n",
       " ['5', '5', '5'],\n",
       " ['5', '5', '58']]"
      ]
     },
     "execution_count": 25,
     "metadata": {},
     "output_type": "execute_result"
    }
   ],
   "source": [
    "rating_list = list()\n",
    "for i in df['stars']:\n",
    "    rating_list.append(rm_num(i))\n",
    "rating_list[0:10]"
   ]
  },
  {
   "cell_type": "code",
   "execution_count": 26,
   "id": "91065250",
   "metadata": {
    "execution": {
     "iopub.execute_input": "2023-08-05T13:35:49.339353Z",
     "iopub.status.busy": "2023-08-05T13:35:49.338104Z",
     "iopub.status.idle": "2023-08-05T13:35:49.405915Z",
     "shell.execute_reply": "2023-08-05T13:35:49.404699Z"
    },
    "papermill": {
     "duration": 0.096162,
     "end_time": "2023-08-05T13:35:49.408672",
     "exception": false,
     "start_time": "2023-08-05T13:35:49.312510",
     "status": "completed"
    },
    "tags": []
   },
   "outputs": [],
   "source": [
    "rating = list()\n",
    "raters = list()\n",
    "for i in rating_list:\n",
    "    if len(i) == 4:\n",
    "        rating.append(float(f'{i[0]}.{i[1]}'))\n",
    "        raters.append(int(i[3]))\n",
    "    elif len(i) == 3:\n",
    "        rating.append(float(i[0]))\n",
    "        raters.append(int(i[2]))\n",
    "    else:\n",
    "        rating.append(0.0)\n",
    "        raters.append(0)"
   ]
  },
  {
   "cell_type": "markdown",
   "id": "a50aeda4",
   "metadata": {
    "papermill": {
     "duration": 0.024403,
     "end_time": "2023-08-05T13:35:49.457397",
     "exception": false,
     "start_time": "2023-08-05T13:35:49.432994",
     "status": "completed"
    },
    "tags": []
   },
   "source": [
    "**Creating a rating and number of raters col.**"
   ]
  },
  {
   "cell_type": "markdown",
   "id": "1117954d",
   "metadata": {
    "papermill": {
     "duration": 0.023819,
     "end_time": "2023-08-05T13:35:49.505760",
     "exception": false,
     "start_time": "2023-08-05T13:35:49.481941",
     "status": "completed"
    },
    "tags": []
   },
   "source": [
    "Rating"
   ]
  },
  {
   "cell_type": "code",
   "execution_count": 27,
   "id": "e4b68ea0",
   "metadata": {
    "execution": {
     "iopub.execute_input": "2023-08-05T13:35:49.558592Z",
     "iopub.status.busy": "2023-08-05T13:35:49.558180Z",
     "iopub.status.idle": "2023-08-05T13:35:49.599937Z",
     "shell.execute_reply": "2023-08-05T13:35:49.598806Z"
    },
    "papermill": {
     "duration": 0.070741,
     "end_time": "2023-08-05T13:35:49.602427",
     "exception": false,
     "start_time": "2023-08-05T13:35:49.531686",
     "status": "completed"
    },
    "tags": []
   },
   "outputs": [
    {
     "data": {
      "text/html": [
       "<div>\n",
       "<style scoped>\n",
       "    .dataframe tbody tr th:only-of-type {\n",
       "        vertical-align: middle;\n",
       "    }\n",
       "\n",
       "    .dataframe tbody tr th {\n",
       "        vertical-align: top;\n",
       "    }\n",
       "\n",
       "    .dataframe thead th {\n",
       "        text-align: right;\n",
       "    }\n",
       "</style>\n",
       "<table border=\"1\" class=\"dataframe\">\n",
       "  <thead>\n",
       "    <tr style=\"text-align: right;\">\n",
       "      <th></th>\n",
       "      <th>name</th>\n",
       "      <th>releasedate</th>\n",
       "      <th>language</th>\n",
       "      <th>stars</th>\n",
       "      <th>price</th>\n",
       "      <th>authors</th>\n",
       "      <th>narrators</th>\n",
       "      <th>audible_length_m</th>\n",
       "      <th>audible_rating</th>\n",
       "    </tr>\n",
       "  </thead>\n",
       "  <tbody>\n",
       "    <tr>\n",
       "      <th>0</th>\n",
       "      <td>Geronimo Stilton #11 &amp; #12</td>\n",
       "      <td>04-08-08</td>\n",
       "      <td>English</td>\n",
       "      <td>5 out of 5 stars34 ratings</td>\n",
       "      <td>468.00</td>\n",
       "      <td>Geronimo Stilton</td>\n",
       "      <td>Bill Lobely</td>\n",
       "      <td>140</td>\n",
       "      <td>5.0</td>\n",
       "    </tr>\n",
       "    <tr>\n",
       "      <th>1</th>\n",
       "      <td>The Burning Maze</td>\n",
       "      <td>01-05-18</td>\n",
       "      <td>English</td>\n",
       "      <td>4.5 out of 5 stars41 ratings</td>\n",
       "      <td>820.00</td>\n",
       "      <td>Rick Riordan</td>\n",
       "      <td>Robbie Daymond</td>\n",
       "      <td>788</td>\n",
       "      <td>4.5</td>\n",
       "    </tr>\n",
       "    <tr>\n",
       "      <th>2</th>\n",
       "      <td>The Deep End</td>\n",
       "      <td>06-11-20</td>\n",
       "      <td>English</td>\n",
       "      <td>4.5 out of 5 stars38 ratings</td>\n",
       "      <td>410.00</td>\n",
       "      <td>Jeff Kinney</td>\n",
       "      <td>Dan Russell</td>\n",
       "      <td>123</td>\n",
       "      <td>4.5</td>\n",
       "    </tr>\n",
       "    <tr>\n",
       "      <th>3</th>\n",
       "      <td>Daughter of the Deep</td>\n",
       "      <td>05-10-21</td>\n",
       "      <td>English</td>\n",
       "      <td>4.5 out of 5 stars12 ratings</td>\n",
       "      <td>615.00</td>\n",
       "      <td>Rick Riordan</td>\n",
       "      <td>Soneela Nankani</td>\n",
       "      <td>676</td>\n",
       "      <td>4.5</td>\n",
       "    </tr>\n",
       "    <tr>\n",
       "      <th>4</th>\n",
       "      <td>The Lightning Thief: Percy Jackson, Book 1</td>\n",
       "      <td>13-01-10</td>\n",
       "      <td>English</td>\n",
       "      <td>4.5 out of 5 stars181 ratings</td>\n",
       "      <td>820.00</td>\n",
       "      <td>Rick Riordan</td>\n",
       "      <td>Jesse Bernstein</td>\n",
       "      <td>660</td>\n",
       "      <td>4.5</td>\n",
       "    </tr>\n",
       "  </tbody>\n",
       "</table>\n",
       "</div>"
      ],
      "text/plain": [
       "                                         name releasedate language  \\\n",
       "0                  Geronimo Stilton #11 & #12    04-08-08  English   \n",
       "1                            The Burning Maze    01-05-18  English   \n",
       "2                                The Deep End    06-11-20  English   \n",
       "3                        Daughter of the Deep    05-10-21  English   \n",
       "4  The Lightning Thief: Percy Jackson, Book 1    13-01-10  English   \n",
       "\n",
       "                           stars   price           authors        narrators  \\\n",
       "0     5 out of 5 stars34 ratings  468.00  Geronimo Stilton      Bill Lobely   \n",
       "1   4.5 out of 5 stars41 ratings  820.00      Rick Riordan   Robbie Daymond   \n",
       "2   4.5 out of 5 stars38 ratings  410.00       Jeff Kinney      Dan Russell   \n",
       "3   4.5 out of 5 stars12 ratings  615.00      Rick Riordan  Soneela Nankani   \n",
       "4  4.5 out of 5 stars181 ratings  820.00      Rick Riordan  Jesse Bernstein   \n",
       "\n",
       "   audible_length_m  audible_rating  \n",
       "0               140             5.0  \n",
       "1               788             4.5  \n",
       "2               123             4.5  \n",
       "3               676             4.5  \n",
       "4               660             4.5  "
      ]
     },
     "execution_count": 27,
     "metadata": {},
     "output_type": "execute_result"
    }
   ],
   "source": [
    "# Assigns the values to a list and then to a series\n",
    "rated_series = pd.Series(rating)\n",
    "# Adds a ability 1 col.\n",
    "df = df.assign(audible_rating = rated_series)\n",
    "df.head()"
   ]
  },
  {
   "cell_type": "markdown",
   "id": "1c917d3c",
   "metadata": {
    "papermill": {
     "duration": 0.024215,
     "end_time": "2023-08-05T13:35:49.651801",
     "exception": false,
     "start_time": "2023-08-05T13:35:49.627586",
     "status": "completed"
    },
    "tags": []
   },
   "source": [
    "Raters"
   ]
  },
  {
   "cell_type": "code",
   "execution_count": 28,
   "id": "f1131974",
   "metadata": {
    "execution": {
     "iopub.execute_input": "2023-08-05T13:35:49.702812Z",
     "iopub.status.busy": "2023-08-05T13:35:49.702360Z",
     "iopub.status.idle": "2023-08-05T13:35:49.780646Z",
     "shell.execute_reply": "2023-08-05T13:35:49.779047Z"
    },
    "papermill": {
     "duration": 0.106853,
     "end_time": "2023-08-05T13:35:49.783307",
     "exception": false,
     "start_time": "2023-08-05T13:35:49.676454",
     "status": "completed"
    },
    "tags": []
   },
   "outputs": [
    {
     "data": {
      "text/html": [
       "<div>\n",
       "<style scoped>\n",
       "    .dataframe tbody tr th:only-of-type {\n",
       "        vertical-align: middle;\n",
       "    }\n",
       "\n",
       "    .dataframe tbody tr th {\n",
       "        vertical-align: top;\n",
       "    }\n",
       "\n",
       "    .dataframe thead th {\n",
       "        text-align: right;\n",
       "    }\n",
       "</style>\n",
       "<table border=\"1\" class=\"dataframe\">\n",
       "  <thead>\n",
       "    <tr style=\"text-align: right;\">\n",
       "      <th></th>\n",
       "      <th>name</th>\n",
       "      <th>releasedate</th>\n",
       "      <th>language</th>\n",
       "      <th>stars</th>\n",
       "      <th>price</th>\n",
       "      <th>authors</th>\n",
       "      <th>narrators</th>\n",
       "      <th>audible_length_m</th>\n",
       "      <th>audible_rating</th>\n",
       "      <th>rater_number</th>\n",
       "    </tr>\n",
       "  </thead>\n",
       "  <tbody>\n",
       "    <tr>\n",
       "      <th>0</th>\n",
       "      <td>Geronimo Stilton #11 &amp; #12</td>\n",
       "      <td>04-08-08</td>\n",
       "      <td>English</td>\n",
       "      <td>5 out of 5 stars34 ratings</td>\n",
       "      <td>468.00</td>\n",
       "      <td>Geronimo Stilton</td>\n",
       "      <td>Bill Lobely</td>\n",
       "      <td>140</td>\n",
       "      <td>5.0</td>\n",
       "      <td>34</td>\n",
       "    </tr>\n",
       "    <tr>\n",
       "      <th>1</th>\n",
       "      <td>The Burning Maze</td>\n",
       "      <td>01-05-18</td>\n",
       "      <td>English</td>\n",
       "      <td>4.5 out of 5 stars41 ratings</td>\n",
       "      <td>820.00</td>\n",
       "      <td>Rick Riordan</td>\n",
       "      <td>Robbie Daymond</td>\n",
       "      <td>788</td>\n",
       "      <td>4.5</td>\n",
       "      <td>41</td>\n",
       "    </tr>\n",
       "    <tr>\n",
       "      <th>2</th>\n",
       "      <td>The Deep End</td>\n",
       "      <td>06-11-20</td>\n",
       "      <td>English</td>\n",
       "      <td>4.5 out of 5 stars38 ratings</td>\n",
       "      <td>410.00</td>\n",
       "      <td>Jeff Kinney</td>\n",
       "      <td>Dan Russell</td>\n",
       "      <td>123</td>\n",
       "      <td>4.5</td>\n",
       "      <td>38</td>\n",
       "    </tr>\n",
       "    <tr>\n",
       "      <th>3</th>\n",
       "      <td>Daughter of the Deep</td>\n",
       "      <td>05-10-21</td>\n",
       "      <td>English</td>\n",
       "      <td>4.5 out of 5 stars12 ratings</td>\n",
       "      <td>615.00</td>\n",
       "      <td>Rick Riordan</td>\n",
       "      <td>Soneela Nankani</td>\n",
       "      <td>676</td>\n",
       "      <td>4.5</td>\n",
       "      <td>12</td>\n",
       "    </tr>\n",
       "    <tr>\n",
       "      <th>4</th>\n",
       "      <td>The Lightning Thief: Percy Jackson, Book 1</td>\n",
       "      <td>13-01-10</td>\n",
       "      <td>English</td>\n",
       "      <td>4.5 out of 5 stars181 ratings</td>\n",
       "      <td>820.00</td>\n",
       "      <td>Rick Riordan</td>\n",
       "      <td>Jesse Bernstein</td>\n",
       "      <td>660</td>\n",
       "      <td>4.5</td>\n",
       "      <td>181</td>\n",
       "    </tr>\n",
       "  </tbody>\n",
       "</table>\n",
       "</div>"
      ],
      "text/plain": [
       "                                         name releasedate language  \\\n",
       "0                  Geronimo Stilton #11 & #12    04-08-08  English   \n",
       "1                            The Burning Maze    01-05-18  English   \n",
       "2                                The Deep End    06-11-20  English   \n",
       "3                        Daughter of the Deep    05-10-21  English   \n",
       "4  The Lightning Thief: Percy Jackson, Book 1    13-01-10  English   \n",
       "\n",
       "                           stars   price           authors        narrators  \\\n",
       "0     5 out of 5 stars34 ratings  468.00  Geronimo Stilton      Bill Lobely   \n",
       "1   4.5 out of 5 stars41 ratings  820.00      Rick Riordan   Robbie Daymond   \n",
       "2   4.5 out of 5 stars38 ratings  410.00       Jeff Kinney      Dan Russell   \n",
       "3   4.5 out of 5 stars12 ratings  615.00      Rick Riordan  Soneela Nankani   \n",
       "4  4.5 out of 5 stars181 ratings  820.00      Rick Riordan  Jesse Bernstein   \n",
       "\n",
       "   audible_length_m  audible_rating  rater_number  \n",
       "0               140             5.0            34  \n",
       "1               788             4.5            41  \n",
       "2               123             4.5            38  \n",
       "3               676             4.5            12  \n",
       "4               660             4.5           181  "
      ]
     },
     "execution_count": 28,
     "metadata": {},
     "output_type": "execute_result"
    }
   ],
   "source": [
    "# Assigns the values to a list and then to a series\n",
    "rater_series = pd.Series(raters)\n",
    "# Adds a ability 1 col.\n",
    "df = df.assign(rater_number = rater_series)\n",
    "df.head()"
   ]
  },
  {
   "cell_type": "code",
   "execution_count": 29,
   "id": "5911f905",
   "metadata": {
    "execution": {
     "iopub.execute_input": "2023-08-05T13:35:49.835448Z",
     "iopub.status.busy": "2023-08-05T13:35:49.834974Z",
     "iopub.status.idle": "2023-08-05T13:35:49.851469Z",
     "shell.execute_reply": "2023-08-05T13:35:49.850170Z"
    },
    "papermill": {
     "duration": 0.045813,
     "end_time": "2023-08-05T13:35:49.853995",
     "exception": false,
     "start_time": "2023-08-05T13:35:49.808182",
     "status": "completed"
    },
    "tags": []
   },
   "outputs": [],
   "source": [
    "df = df.drop('stars',axis = 1)"
   ]
  },
  {
   "cell_type": "code",
   "execution_count": 30,
   "id": "17bdd21e",
   "metadata": {
    "execution": {
     "iopub.execute_input": "2023-08-05T13:35:49.906136Z",
     "iopub.status.busy": "2023-08-05T13:35:49.905731Z",
     "iopub.status.idle": "2023-08-05T13:35:49.922101Z",
     "shell.execute_reply": "2023-08-05T13:35:49.920794Z"
    },
    "papermill": {
     "duration": 0.045711,
     "end_time": "2023-08-05T13:35:49.924688",
     "exception": false,
     "start_time": "2023-08-05T13:35:49.878977",
     "status": "completed"
    },
    "tags": []
   },
   "outputs": [
    {
     "data": {
      "text/html": [
       "<div>\n",
       "<style scoped>\n",
       "    .dataframe tbody tr th:only-of-type {\n",
       "        vertical-align: middle;\n",
       "    }\n",
       "\n",
       "    .dataframe tbody tr th {\n",
       "        vertical-align: top;\n",
       "    }\n",
       "\n",
       "    .dataframe thead th {\n",
       "        text-align: right;\n",
       "    }\n",
       "</style>\n",
       "<table border=\"1\" class=\"dataframe\">\n",
       "  <thead>\n",
       "    <tr style=\"text-align: right;\">\n",
       "      <th></th>\n",
       "      <th>name</th>\n",
       "      <th>releasedate</th>\n",
       "      <th>language</th>\n",
       "      <th>price</th>\n",
       "      <th>authors</th>\n",
       "      <th>narrators</th>\n",
       "      <th>audible_length_m</th>\n",
       "      <th>audible_rating</th>\n",
       "      <th>rater_number</th>\n",
       "    </tr>\n",
       "  </thead>\n",
       "  <tbody>\n",
       "    <tr>\n",
       "      <th>0</th>\n",
       "      <td>Geronimo Stilton #11 &amp; #12</td>\n",
       "      <td>04-08-08</td>\n",
       "      <td>English</td>\n",
       "      <td>468.00</td>\n",
       "      <td>Geronimo Stilton</td>\n",
       "      <td>Bill Lobely</td>\n",
       "      <td>140</td>\n",
       "      <td>5.0</td>\n",
       "      <td>34</td>\n",
       "    </tr>\n",
       "    <tr>\n",
       "      <th>1</th>\n",
       "      <td>The Burning Maze</td>\n",
       "      <td>01-05-18</td>\n",
       "      <td>English</td>\n",
       "      <td>820.00</td>\n",
       "      <td>Rick Riordan</td>\n",
       "      <td>Robbie Daymond</td>\n",
       "      <td>788</td>\n",
       "      <td>4.5</td>\n",
       "      <td>41</td>\n",
       "    </tr>\n",
       "    <tr>\n",
       "      <th>2</th>\n",
       "      <td>The Deep End</td>\n",
       "      <td>06-11-20</td>\n",
       "      <td>English</td>\n",
       "      <td>410.00</td>\n",
       "      <td>Jeff Kinney</td>\n",
       "      <td>Dan Russell</td>\n",
       "      <td>123</td>\n",
       "      <td>4.5</td>\n",
       "      <td>38</td>\n",
       "    </tr>\n",
       "    <tr>\n",
       "      <th>3</th>\n",
       "      <td>Daughter of the Deep</td>\n",
       "      <td>05-10-21</td>\n",
       "      <td>English</td>\n",
       "      <td>615.00</td>\n",
       "      <td>Rick Riordan</td>\n",
       "      <td>Soneela Nankani</td>\n",
       "      <td>676</td>\n",
       "      <td>4.5</td>\n",
       "      <td>12</td>\n",
       "    </tr>\n",
       "    <tr>\n",
       "      <th>4</th>\n",
       "      <td>The Lightning Thief: Percy Jackson, Book 1</td>\n",
       "      <td>13-01-10</td>\n",
       "      <td>English</td>\n",
       "      <td>820.00</td>\n",
       "      <td>Rick Riordan</td>\n",
       "      <td>Jesse Bernstein</td>\n",
       "      <td>660</td>\n",
       "      <td>4.5</td>\n",
       "      <td>181</td>\n",
       "    </tr>\n",
       "  </tbody>\n",
       "</table>\n",
       "</div>"
      ],
      "text/plain": [
       "                                         name releasedate language   price  \\\n",
       "0                  Geronimo Stilton #11 & #12    04-08-08  English  468.00   \n",
       "1                            The Burning Maze    01-05-18  English  820.00   \n",
       "2                                The Deep End    06-11-20  English  410.00   \n",
       "3                        Daughter of the Deep    05-10-21  English  615.00   \n",
       "4  The Lightning Thief: Percy Jackson, Book 1    13-01-10  English  820.00   \n",
       "\n",
       "            authors        narrators  audible_length_m  audible_rating  \\\n",
       "0  Geronimo Stilton      Bill Lobely               140             5.0   \n",
       "1      Rick Riordan   Robbie Daymond               788             4.5   \n",
       "2       Jeff Kinney      Dan Russell               123             4.5   \n",
       "3      Rick Riordan  Soneela Nankani               676             4.5   \n",
       "4      Rick Riordan  Jesse Bernstein               660             4.5   \n",
       "\n",
       "   rater_number  \n",
       "0            34  \n",
       "1            41  \n",
       "2            38  \n",
       "3            12  \n",
       "4           181  "
      ]
     },
     "execution_count": 30,
     "metadata": {},
     "output_type": "execute_result"
    }
   ],
   "source": [
    "df.head()"
   ]
  },
  {
   "cell_type": "markdown",
   "id": "6c5b9982",
   "metadata": {
    "papermill": {
     "duration": 0.024552,
     "end_time": "2023-08-05T13:35:49.974957",
     "exception": false,
     "start_time": "2023-08-05T13:35:49.950405",
     "status": "completed"
    },
    "tags": []
   },
   "source": [
    "**Rearange cols.**"
   ]
  },
  {
   "cell_type": "code",
   "execution_count": 31,
   "id": "e8971f4b",
   "metadata": {
    "execution": {
     "iopub.execute_input": "2023-08-05T13:35:50.027024Z",
     "iopub.status.busy": "2023-08-05T13:35:50.026219Z",
     "iopub.status.idle": "2023-08-05T13:35:50.054131Z",
     "shell.execute_reply": "2023-08-05T13:35:50.053218Z"
    },
    "papermill": {
     "duration": 0.056398,
     "end_time": "2023-08-05T13:35:50.056350",
     "exception": false,
     "start_time": "2023-08-05T13:35:49.999952",
     "status": "completed"
    },
    "tags": []
   },
   "outputs": [
    {
     "data": {
      "text/html": [
       "<div>\n",
       "<style scoped>\n",
       "    .dataframe tbody tr th:only-of-type {\n",
       "        vertical-align: middle;\n",
       "    }\n",
       "\n",
       "    .dataframe tbody tr th {\n",
       "        vertical-align: top;\n",
       "    }\n",
       "\n",
       "    .dataframe thead th {\n",
       "        text-align: right;\n",
       "    }\n",
       "</style>\n",
       "<table border=\"1\" class=\"dataframe\">\n",
       "  <thead>\n",
       "    <tr style=\"text-align: right;\">\n",
       "      <th></th>\n",
       "      <th>name</th>\n",
       "      <th>authors</th>\n",
       "      <th>narrators</th>\n",
       "      <th>audible_length_m</th>\n",
       "      <th>releasedate</th>\n",
       "      <th>language</th>\n",
       "      <th>price</th>\n",
       "      <th>audible_rating</th>\n",
       "      <th>rater_number</th>\n",
       "    </tr>\n",
       "  </thead>\n",
       "  <tbody>\n",
       "    <tr>\n",
       "      <th>0</th>\n",
       "      <td>Geronimo Stilton #11 &amp; #12</td>\n",
       "      <td>Geronimo Stilton</td>\n",
       "      <td>Bill Lobely</td>\n",
       "      <td>140</td>\n",
       "      <td>04-08-08</td>\n",
       "      <td>English</td>\n",
       "      <td>468.00</td>\n",
       "      <td>5.0</td>\n",
       "      <td>34</td>\n",
       "    </tr>\n",
       "    <tr>\n",
       "      <th>1</th>\n",
       "      <td>The Burning Maze</td>\n",
       "      <td>Rick Riordan</td>\n",
       "      <td>Robbie Daymond</td>\n",
       "      <td>788</td>\n",
       "      <td>01-05-18</td>\n",
       "      <td>English</td>\n",
       "      <td>820.00</td>\n",
       "      <td>4.5</td>\n",
       "      <td>41</td>\n",
       "    </tr>\n",
       "    <tr>\n",
       "      <th>2</th>\n",
       "      <td>The Deep End</td>\n",
       "      <td>Jeff Kinney</td>\n",
       "      <td>Dan Russell</td>\n",
       "      <td>123</td>\n",
       "      <td>06-11-20</td>\n",
       "      <td>English</td>\n",
       "      <td>410.00</td>\n",
       "      <td>4.5</td>\n",
       "      <td>38</td>\n",
       "    </tr>\n",
       "    <tr>\n",
       "      <th>3</th>\n",
       "      <td>Daughter of the Deep</td>\n",
       "      <td>Rick Riordan</td>\n",
       "      <td>Soneela Nankani</td>\n",
       "      <td>676</td>\n",
       "      <td>05-10-21</td>\n",
       "      <td>English</td>\n",
       "      <td>615.00</td>\n",
       "      <td>4.5</td>\n",
       "      <td>12</td>\n",
       "    </tr>\n",
       "    <tr>\n",
       "      <th>4</th>\n",
       "      <td>The Lightning Thief: Percy Jackson, Book 1</td>\n",
       "      <td>Rick Riordan</td>\n",
       "      <td>Jesse Bernstein</td>\n",
       "      <td>660</td>\n",
       "      <td>13-01-10</td>\n",
       "      <td>English</td>\n",
       "      <td>820.00</td>\n",
       "      <td>4.5</td>\n",
       "      <td>181</td>\n",
       "    </tr>\n",
       "  </tbody>\n",
       "</table>\n",
       "</div>"
      ],
      "text/plain": [
       "                                         name           authors  \\\n",
       "0                  Geronimo Stilton #11 & #12  Geronimo Stilton   \n",
       "1                            The Burning Maze      Rick Riordan   \n",
       "2                                The Deep End       Jeff Kinney   \n",
       "3                        Daughter of the Deep      Rick Riordan   \n",
       "4  The Lightning Thief: Percy Jackson, Book 1      Rick Riordan   \n",
       "\n",
       "         narrators  audible_length_m releasedate language   price  \\\n",
       "0      Bill Lobely               140    04-08-08  English  468.00   \n",
       "1   Robbie Daymond               788    01-05-18  English  820.00   \n",
       "2      Dan Russell               123    06-11-20  English  410.00   \n",
       "3  Soneela Nankani               676    05-10-21  English  615.00   \n",
       "4  Jesse Bernstein               660    13-01-10  English  820.00   \n",
       "\n",
       "   audible_rating  rater_number  \n",
       "0             5.0            34  \n",
       "1             4.5            41  \n",
       "2             4.5            38  \n",
       "3             4.5            12  \n",
       "4             4.5           181  "
      ]
     },
     "execution_count": 31,
     "metadata": {},
     "output_type": "execute_result"
    }
   ],
   "source": [
    "df = df[['name', 'authors', 'narrators' ,'audible_length_m', 'releasedate', 'language',\n",
    "        'price', 'audible_rating', 'rater_number']]\n",
    "df.head()"
   ]
  },
  {
   "cell_type": "code",
   "execution_count": 32,
   "id": "9bf8640d",
   "metadata": {
    "execution": {
     "iopub.execute_input": "2023-08-05T13:35:50.109173Z",
     "iopub.status.busy": "2023-08-05T13:35:50.108780Z",
     "iopub.status.idle": "2023-08-05T13:35:50.203504Z",
     "shell.execute_reply": "2023-08-05T13:35:50.201862Z"
    },
    "papermill": {
     "duration": 0.124723,
     "end_time": "2023-08-05T13:35:50.206469",
     "exception": false,
     "start_time": "2023-08-05T13:35:50.081746",
     "status": "completed"
    },
    "tags": []
   },
   "outputs": [],
   "source": [
    "df = df.convert_dtypes()"
   ]
  },
  {
   "cell_type": "markdown",
   "id": "318ac519",
   "metadata": {
    "papermill": {
     "duration": 0.025049,
     "end_time": "2023-08-05T13:35:50.257104",
     "exception": false,
     "start_time": "2023-08-05T13:35:50.232055",
     "status": "completed"
    },
    "tags": []
   },
   "source": [
    "**Make a coded version of name, authors, narrators, language**"
   ]
  },
  {
   "cell_type": "code",
   "execution_count": 33,
   "id": "dd763068",
   "metadata": {
    "execution": {
     "iopub.execute_input": "2023-08-05T13:35:50.311212Z",
     "iopub.status.busy": "2023-08-05T13:35:50.310791Z",
     "iopub.status.idle": "2023-08-05T13:35:50.448340Z",
     "shell.execute_reply": "2023-08-05T13:35:50.446876Z"
    },
    "papermill": {
     "duration": 0.16889,
     "end_time": "2023-08-05T13:35:50.452009",
     "exception": false,
     "start_time": "2023-08-05T13:35:50.283119",
     "status": "completed"
    },
    "tags": []
   },
   "outputs": [],
   "source": [
    "df['author_id'] = pd.factorize(df['authors'])[0] + 1\n",
    "df['narrator_id'] = pd.factorize(df['narrators'])[0] + 1\n",
    "df['name_id'] = pd.factorize(df['name'])[0] + 1\n",
    "df['language_id'] = pd.factorize(df['language'])[0] + 1"
   ]
  },
  {
   "cell_type": "code",
   "execution_count": 34,
   "id": "b4730c5c",
   "metadata": {
    "execution": {
     "iopub.execute_input": "2023-08-05T13:35:50.513261Z",
     "iopub.status.busy": "2023-08-05T13:35:50.512863Z",
     "iopub.status.idle": "2023-08-05T13:35:50.638162Z",
     "shell.execute_reply": "2023-08-05T13:35:50.637084Z"
    },
    "papermill": {
     "duration": 0.155328,
     "end_time": "2023-08-05T13:35:50.640903",
     "exception": false,
     "start_time": "2023-08-05T13:35:50.485575",
     "status": "completed"
    },
    "tags": []
   },
   "outputs": [],
   "source": [
    "df = df.convert_dtypes()"
   ]
  },
  {
   "cell_type": "code",
   "execution_count": 35,
   "id": "e4cdaa0d",
   "metadata": {
    "execution": {
     "iopub.execute_input": "2023-08-05T13:35:50.695624Z",
     "iopub.status.busy": "2023-08-05T13:35:50.694939Z",
     "iopub.status.idle": "2023-08-05T13:35:50.773345Z",
     "shell.execute_reply": "2023-08-05T13:35:50.772159Z"
    },
    "papermill": {
     "duration": 0.109137,
     "end_time": "2023-08-05T13:35:50.776002",
     "exception": false,
     "start_time": "2023-08-05T13:35:50.666865",
     "status": "completed"
    },
    "tags": []
   },
   "outputs": [
    {
     "name": "stdout",
     "output_type": "stream",
     "text": [
      "<class 'pandas.core.frame.DataFrame'>\n",
      "RangeIndex: 87489 entries, 0 to 87488\n",
      "Data columns (total 13 columns):\n",
      " #   Column            Non-Null Count  Dtype  \n",
      "---  ------            --------------  -----  \n",
      " 0   name              87489 non-null  string \n",
      " 1   authors           87489 non-null  string \n",
      " 2   narrators         87489 non-null  string \n",
      " 3   audible_length_m  87489 non-null  Int64  \n",
      " 4   releasedate       87489 non-null  string \n",
      " 5   language          87489 non-null  string \n",
      " 6   price             87489 non-null  string \n",
      " 7   audible_rating    87489 non-null  Float64\n",
      " 8   rater_number      87489 non-null  Int64  \n",
      " 9   author_id         87489 non-null  Int64  \n",
      " 10  narrator_id       87489 non-null  Int64  \n",
      " 11  name_id           87489 non-null  Int64  \n",
      " 12  language_id       87489 non-null  Int64  \n",
      "dtypes: Float64(1), Int64(6), string(6)\n",
      "memory usage: 9.3 MB\n"
     ]
    }
   ],
   "source": [
    "df.info()"
   ]
  },
  {
   "cell_type": "markdown",
   "id": "426a75b2",
   "metadata": {
    "papermill": {
     "duration": 0.026639,
     "end_time": "2023-08-05T13:35:50.828938",
     "exception": false,
     "start_time": "2023-08-05T13:35:50.802299",
     "status": "completed"
    },
    "tags": []
   },
   "source": [
    "**Turning 'price' into a float col.**"
   ]
  },
  {
   "cell_type": "code",
   "execution_count": 36,
   "id": "a53c6ec9",
   "metadata": {
    "execution": {
     "iopub.execute_input": "2023-08-05T13:35:50.894570Z",
     "iopub.status.busy": "2023-08-05T13:35:50.893450Z",
     "iopub.status.idle": "2023-08-05T13:35:51.039286Z",
     "shell.execute_reply": "2023-08-05T13:35:51.038142Z"
    },
    "papermill": {
     "duration": 0.180805,
     "end_time": "2023-08-05T13:35:51.041746",
     "exception": false,
     "start_time": "2023-08-05T13:35:50.860941",
     "status": "completed"
    },
    "tags": []
   },
   "outputs": [],
   "source": [
    "price_list = list()\n",
    "for i in df['price']:\n",
    "    if i == 'Free':\n",
    "        price_list.append(0.0)\n",
    "    else:\n",
    "        i = i.replace(',', '')\n",
    "        price_list.append(i)"
   ]
  },
  {
   "cell_type": "code",
   "execution_count": 37,
   "id": "0f288363",
   "metadata": {
    "execution": {
     "iopub.execute_input": "2023-08-05T13:35:51.101211Z",
     "iopub.status.busy": "2023-08-05T13:35:51.100374Z",
     "iopub.status.idle": "2023-08-05T13:35:51.147835Z",
     "shell.execute_reply": "2023-08-05T13:35:51.146649Z"
    },
    "papermill": {
     "duration": 0.077725,
     "end_time": "2023-08-05T13:35:51.150351",
     "exception": false,
     "start_time": "2023-08-05T13:35:51.072626",
     "status": "completed"
    },
    "tags": []
   },
   "outputs": [
    {
     "data": {
      "text/html": [
       "<div>\n",
       "<style scoped>\n",
       "    .dataframe tbody tr th:only-of-type {\n",
       "        vertical-align: middle;\n",
       "    }\n",
       "\n",
       "    .dataframe tbody tr th {\n",
       "        vertical-align: top;\n",
       "    }\n",
       "\n",
       "    .dataframe thead th {\n",
       "        text-align: right;\n",
       "    }\n",
       "</style>\n",
       "<table border=\"1\" class=\"dataframe\">\n",
       "  <thead>\n",
       "    <tr style=\"text-align: right;\">\n",
       "      <th></th>\n",
       "      <th>name</th>\n",
       "      <th>authors</th>\n",
       "      <th>narrators</th>\n",
       "      <th>audible_length_m</th>\n",
       "      <th>releasedate</th>\n",
       "      <th>language</th>\n",
       "      <th>price</th>\n",
       "      <th>audible_rating</th>\n",
       "      <th>rater_number</th>\n",
       "      <th>author_id</th>\n",
       "      <th>narrator_id</th>\n",
       "      <th>name_id</th>\n",
       "      <th>language_id</th>\n",
       "      <th>price_fixed</th>\n",
       "    </tr>\n",
       "  </thead>\n",
       "  <tbody>\n",
       "    <tr>\n",
       "      <th>0</th>\n",
       "      <td>Geronimo Stilton #11 &amp; #12</td>\n",
       "      <td>Geronimo Stilton</td>\n",
       "      <td>Bill Lobely</td>\n",
       "      <td>140</td>\n",
       "      <td>04-08-08</td>\n",
       "      <td>English</td>\n",
       "      <td>468.00</td>\n",
       "      <td>5.0</td>\n",
       "      <td>34</td>\n",
       "      <td>1</td>\n",
       "      <td>1</td>\n",
       "      <td>1</td>\n",
       "      <td>1</td>\n",
       "      <td>468.00</td>\n",
       "    </tr>\n",
       "    <tr>\n",
       "      <th>1</th>\n",
       "      <td>The Burning Maze</td>\n",
       "      <td>Rick Riordan</td>\n",
       "      <td>Robbie Daymond</td>\n",
       "      <td>788</td>\n",
       "      <td>01-05-18</td>\n",
       "      <td>English</td>\n",
       "      <td>820.00</td>\n",
       "      <td>4.5</td>\n",
       "      <td>41</td>\n",
       "      <td>2</td>\n",
       "      <td>2</td>\n",
       "      <td>2</td>\n",
       "      <td>1</td>\n",
       "      <td>820.00</td>\n",
       "    </tr>\n",
       "    <tr>\n",
       "      <th>2</th>\n",
       "      <td>The Deep End</td>\n",
       "      <td>Jeff Kinney</td>\n",
       "      <td>Dan Russell</td>\n",
       "      <td>123</td>\n",
       "      <td>06-11-20</td>\n",
       "      <td>English</td>\n",
       "      <td>410.00</td>\n",
       "      <td>4.5</td>\n",
       "      <td>38</td>\n",
       "      <td>3</td>\n",
       "      <td>3</td>\n",
       "      <td>3</td>\n",
       "      <td>1</td>\n",
       "      <td>410.00</td>\n",
       "    </tr>\n",
       "    <tr>\n",
       "      <th>3</th>\n",
       "      <td>Daughter of the Deep</td>\n",
       "      <td>Rick Riordan</td>\n",
       "      <td>Soneela Nankani</td>\n",
       "      <td>676</td>\n",
       "      <td>05-10-21</td>\n",
       "      <td>English</td>\n",
       "      <td>615.00</td>\n",
       "      <td>4.5</td>\n",
       "      <td>12</td>\n",
       "      <td>2</td>\n",
       "      <td>4</td>\n",
       "      <td>4</td>\n",
       "      <td>1</td>\n",
       "      <td>615.00</td>\n",
       "    </tr>\n",
       "    <tr>\n",
       "      <th>4</th>\n",
       "      <td>The Lightning Thief: Percy Jackson, Book 1</td>\n",
       "      <td>Rick Riordan</td>\n",
       "      <td>Jesse Bernstein</td>\n",
       "      <td>660</td>\n",
       "      <td>13-01-10</td>\n",
       "      <td>English</td>\n",
       "      <td>820.00</td>\n",
       "      <td>4.5</td>\n",
       "      <td>181</td>\n",
       "      <td>2</td>\n",
       "      <td>5</td>\n",
       "      <td>5</td>\n",
       "      <td>1</td>\n",
       "      <td>820.00</td>\n",
       "    </tr>\n",
       "  </tbody>\n",
       "</table>\n",
       "</div>"
      ],
      "text/plain": [
       "                                         name           authors  \\\n",
       "0                  Geronimo Stilton #11 & #12  Geronimo Stilton   \n",
       "1                            The Burning Maze      Rick Riordan   \n",
       "2                                The Deep End       Jeff Kinney   \n",
       "3                        Daughter of the Deep      Rick Riordan   \n",
       "4  The Lightning Thief: Percy Jackson, Book 1      Rick Riordan   \n",
       "\n",
       "         narrators  audible_length_m releasedate language   price  \\\n",
       "0      Bill Lobely               140    04-08-08  English  468.00   \n",
       "1   Robbie Daymond               788    01-05-18  English  820.00   \n",
       "2      Dan Russell               123    06-11-20  English  410.00   \n",
       "3  Soneela Nankani               676    05-10-21  English  615.00   \n",
       "4  Jesse Bernstein               660    13-01-10  English  820.00   \n",
       "\n",
       "   audible_rating  rater_number  author_id  narrator_id  name_id  language_id  \\\n",
       "0             5.0            34          1            1        1            1   \n",
       "1             4.5            41          2            2        2            1   \n",
       "2             4.5            38          3            3        3            1   \n",
       "3             4.5            12          2            4        4            1   \n",
       "4             4.5           181          2            5        5            1   \n",
       "\n",
       "  price_fixed  \n",
       "0      468.00  \n",
       "1      820.00  \n",
       "2      410.00  \n",
       "3      615.00  \n",
       "4      820.00  "
      ]
     },
     "execution_count": 37,
     "metadata": {},
     "output_type": "execute_result"
    }
   ],
   "source": [
    "# Assigns the values to a list and then to a series\n",
    "price_series = pd.Series(price_list)\n",
    "# Adds a ability 1 col.\n",
    "df = df.assign(price_fixed = price_series)\n",
    "df.head()"
   ]
  },
  {
   "cell_type": "code",
   "execution_count": 38,
   "id": "f37668d2",
   "metadata": {
    "execution": {
     "iopub.execute_input": "2023-08-05T13:35:51.205777Z",
     "iopub.status.busy": "2023-08-05T13:35:51.204890Z",
     "iopub.status.idle": "2023-08-05T13:35:51.228545Z",
     "shell.execute_reply": "2023-08-05T13:35:51.227570Z"
    },
    "papermill": {
     "duration": 0.055217,
     "end_time": "2023-08-05T13:35:51.231254",
     "exception": false,
     "start_time": "2023-08-05T13:35:51.176037",
     "status": "completed"
    },
    "tags": []
   },
   "outputs": [],
   "source": [
    "df['price_fixed'] = df['price_fixed'].astype(float)"
   ]
  },
  {
   "cell_type": "code",
   "execution_count": 39,
   "id": "6a83b5af",
   "metadata": {
    "execution": {
     "iopub.execute_input": "2023-08-05T13:35:51.287301Z",
     "iopub.status.busy": "2023-08-05T13:35:51.286452Z",
     "iopub.status.idle": "2023-08-05T13:35:51.292852Z",
     "shell.execute_reply": "2023-08-05T13:35:51.291958Z"
    },
    "papermill": {
     "duration": 0.037221,
     "end_time": "2023-08-05T13:35:51.295253",
     "exception": false,
     "start_time": "2023-08-05T13:35:51.258032",
     "status": "completed"
    },
    "tags": []
   },
   "outputs": [],
   "source": [
    "df = df.drop('price', axis = 1)"
   ]
  },
  {
   "cell_type": "markdown",
   "id": "45d54f26",
   "metadata": {
    "papermill": {
     "duration": 0.025689,
     "end_time": "2023-08-05T13:35:51.347052",
     "exception": false,
     "start_time": "2023-08-05T13:35:51.321363",
     "status": "completed"
    },
    "tags": []
   },
   "source": [
    "**How many unique values in cols.**"
   ]
  },
  {
   "cell_type": "code",
   "execution_count": 40,
   "id": "cb8f1942",
   "metadata": {
    "execution": {
     "iopub.execute_input": "2023-08-05T13:35:51.401224Z",
     "iopub.status.busy": "2023-08-05T13:35:51.400522Z",
     "iopub.status.idle": "2023-08-05T13:35:51.464448Z",
     "shell.execute_reply": "2023-08-05T13:35:51.463273Z"
    },
    "papermill": {
     "duration": 0.093887,
     "end_time": "2023-08-05T13:35:51.467043",
     "exception": false,
     "start_time": "2023-08-05T13:35:51.373156",
     "status": "completed"
    },
    "tags": []
   },
   "outputs": [
    {
     "name": "stdout",
     "output_type": "stream",
     "text": [
      "<class 'pandas.core.frame.DataFrame'>\n",
      "RangeIndex: 87489 entries, 0 to 87488\n",
      "Data columns (total 13 columns):\n",
      " #   Column            Non-Null Count  Dtype  \n",
      "---  ------            --------------  -----  \n",
      " 0   name              87489 non-null  string \n",
      " 1   authors           87489 non-null  string \n",
      " 2   narrators         87489 non-null  string \n",
      " 3   audible_length_m  87489 non-null  Int64  \n",
      " 4   releasedate       87489 non-null  string \n",
      " 5   language          87489 non-null  string \n",
      " 6   audible_rating    87489 non-null  Float64\n",
      " 7   rater_number      87489 non-null  Int64  \n",
      " 8   author_id         87489 non-null  Int64  \n",
      " 9   narrator_id       87489 non-null  Int64  \n",
      " 10  name_id           87489 non-null  Int64  \n",
      " 11  language_id       87489 non-null  Int64  \n",
      " 12  price_fixed       87489 non-null  float64\n",
      "dtypes: Float64(1), Int64(6), float64(1), string(5)\n",
      "memory usage: 9.3 MB\n"
     ]
    }
   ],
   "source": [
    "df.info()"
   ]
  },
  {
   "cell_type": "markdown",
   "id": "0d4814f4",
   "metadata": {
    "papermill": {
     "duration": 0.026502,
     "end_time": "2023-08-05T13:35:51.519426",
     "exception": false,
     "start_time": "2023-08-05T13:35:51.492924",
     "status": "completed"
    },
    "tags": []
   },
   "source": [
    "**Create a month and year col. to see if month or year influence a movies popularity**"
   ]
  },
  {
   "cell_type": "code",
   "execution_count": 41,
   "id": "2251e02b",
   "metadata": {
    "execution": {
     "iopub.execute_input": "2023-08-05T13:35:51.577141Z",
     "iopub.status.busy": "2023-08-05T13:35:51.576165Z",
     "iopub.status.idle": "2023-08-05T13:35:51.745840Z",
     "shell.execute_reply": "2023-08-05T13:35:51.744563Z"
    },
    "papermill": {
     "duration": 0.200345,
     "end_time": "2023-08-05T13:35:51.748638",
     "exception": false,
     "start_time": "2023-08-05T13:35:51.548293",
     "status": "completed"
    },
    "tags": []
   },
   "outputs": [],
   "source": [
    "month_list = list()\n",
    "year_list = list()\n",
    "\n",
    "for i in df['releasedate']:\n",
    "    month_list.append(i[3:5])\n",
    "    year_list.append(i[6:])"
   ]
  },
  {
   "cell_type": "code",
   "execution_count": 42,
   "id": "4f02dd23",
   "metadata": {
    "execution": {
     "iopub.execute_input": "2023-08-05T13:35:51.802020Z",
     "iopub.status.busy": "2023-08-05T13:35:51.801550Z",
     "iopub.status.idle": "2023-08-05T13:35:51.850666Z",
     "shell.execute_reply": "2023-08-05T13:35:51.849543Z"
    },
    "papermill": {
     "duration": 0.078829,
     "end_time": "2023-08-05T13:35:51.853247",
     "exception": false,
     "start_time": "2023-08-05T13:35:51.774418",
     "status": "completed"
    },
    "tags": []
   },
   "outputs": [
    {
     "data": {
      "text/html": [
       "<div>\n",
       "<style scoped>\n",
       "    .dataframe tbody tr th:only-of-type {\n",
       "        vertical-align: middle;\n",
       "    }\n",
       "\n",
       "    .dataframe tbody tr th {\n",
       "        vertical-align: top;\n",
       "    }\n",
       "\n",
       "    .dataframe thead th {\n",
       "        text-align: right;\n",
       "    }\n",
       "</style>\n",
       "<table border=\"1\" class=\"dataframe\">\n",
       "  <thead>\n",
       "    <tr style=\"text-align: right;\">\n",
       "      <th></th>\n",
       "      <th>name</th>\n",
       "      <th>authors</th>\n",
       "      <th>narrators</th>\n",
       "      <th>audible_length_m</th>\n",
       "      <th>releasedate</th>\n",
       "      <th>language</th>\n",
       "      <th>audible_rating</th>\n",
       "      <th>rater_number</th>\n",
       "      <th>author_id</th>\n",
       "      <th>narrator_id</th>\n",
       "      <th>name_id</th>\n",
       "      <th>language_id</th>\n",
       "      <th>price_fixed</th>\n",
       "      <th>month</th>\n",
       "    </tr>\n",
       "  </thead>\n",
       "  <tbody>\n",
       "    <tr>\n",
       "      <th>0</th>\n",
       "      <td>Geronimo Stilton #11 &amp; #12</td>\n",
       "      <td>Geronimo Stilton</td>\n",
       "      <td>Bill Lobely</td>\n",
       "      <td>140</td>\n",
       "      <td>04-08-08</td>\n",
       "      <td>English</td>\n",
       "      <td>5.0</td>\n",
       "      <td>34</td>\n",
       "      <td>1</td>\n",
       "      <td>1</td>\n",
       "      <td>1</td>\n",
       "      <td>1</td>\n",
       "      <td>468.0</td>\n",
       "      <td>08</td>\n",
       "    </tr>\n",
       "    <tr>\n",
       "      <th>1</th>\n",
       "      <td>The Burning Maze</td>\n",
       "      <td>Rick Riordan</td>\n",
       "      <td>Robbie Daymond</td>\n",
       "      <td>788</td>\n",
       "      <td>01-05-18</td>\n",
       "      <td>English</td>\n",
       "      <td>4.5</td>\n",
       "      <td>41</td>\n",
       "      <td>2</td>\n",
       "      <td>2</td>\n",
       "      <td>2</td>\n",
       "      <td>1</td>\n",
       "      <td>820.0</td>\n",
       "      <td>05</td>\n",
       "    </tr>\n",
       "    <tr>\n",
       "      <th>2</th>\n",
       "      <td>The Deep End</td>\n",
       "      <td>Jeff Kinney</td>\n",
       "      <td>Dan Russell</td>\n",
       "      <td>123</td>\n",
       "      <td>06-11-20</td>\n",
       "      <td>English</td>\n",
       "      <td>4.5</td>\n",
       "      <td>38</td>\n",
       "      <td>3</td>\n",
       "      <td>3</td>\n",
       "      <td>3</td>\n",
       "      <td>1</td>\n",
       "      <td>410.0</td>\n",
       "      <td>11</td>\n",
       "    </tr>\n",
       "    <tr>\n",
       "      <th>3</th>\n",
       "      <td>Daughter of the Deep</td>\n",
       "      <td>Rick Riordan</td>\n",
       "      <td>Soneela Nankani</td>\n",
       "      <td>676</td>\n",
       "      <td>05-10-21</td>\n",
       "      <td>English</td>\n",
       "      <td>4.5</td>\n",
       "      <td>12</td>\n",
       "      <td>2</td>\n",
       "      <td>4</td>\n",
       "      <td>4</td>\n",
       "      <td>1</td>\n",
       "      <td>615.0</td>\n",
       "      <td>10</td>\n",
       "    </tr>\n",
       "    <tr>\n",
       "      <th>4</th>\n",
       "      <td>The Lightning Thief: Percy Jackson, Book 1</td>\n",
       "      <td>Rick Riordan</td>\n",
       "      <td>Jesse Bernstein</td>\n",
       "      <td>660</td>\n",
       "      <td>13-01-10</td>\n",
       "      <td>English</td>\n",
       "      <td>4.5</td>\n",
       "      <td>181</td>\n",
       "      <td>2</td>\n",
       "      <td>5</td>\n",
       "      <td>5</td>\n",
       "      <td>1</td>\n",
       "      <td>820.0</td>\n",
       "      <td>01</td>\n",
       "    </tr>\n",
       "  </tbody>\n",
       "</table>\n",
       "</div>"
      ],
      "text/plain": [
       "                                         name           authors  \\\n",
       "0                  Geronimo Stilton #11 & #12  Geronimo Stilton   \n",
       "1                            The Burning Maze      Rick Riordan   \n",
       "2                                The Deep End       Jeff Kinney   \n",
       "3                        Daughter of the Deep      Rick Riordan   \n",
       "4  The Lightning Thief: Percy Jackson, Book 1      Rick Riordan   \n",
       "\n",
       "         narrators  audible_length_m releasedate language  audible_rating  \\\n",
       "0      Bill Lobely               140    04-08-08  English             5.0   \n",
       "1   Robbie Daymond               788    01-05-18  English             4.5   \n",
       "2      Dan Russell               123    06-11-20  English             4.5   \n",
       "3  Soneela Nankani               676    05-10-21  English             4.5   \n",
       "4  Jesse Bernstein               660    13-01-10  English             4.5   \n",
       "\n",
       "   rater_number  author_id  narrator_id  name_id  language_id  price_fixed  \\\n",
       "0            34          1            1        1            1        468.0   \n",
       "1            41          2            2        2            1        820.0   \n",
       "2            38          3            3        3            1        410.0   \n",
       "3            12          2            4        4            1        615.0   \n",
       "4           181          2            5        5            1        820.0   \n",
       "\n",
       "  month  \n",
       "0    08  \n",
       "1    05  \n",
       "2    11  \n",
       "3    10  \n",
       "4    01  "
      ]
     },
     "execution_count": 42,
     "metadata": {},
     "output_type": "execute_result"
    }
   ],
   "source": [
    "# Assigns the values to a list and then to a series\n",
    "month_series = pd.Series(month_list)\n",
    "# Adds a ability 1 col.\n",
    "df = df.assign(month = month_series)\n",
    "df.head()"
   ]
  },
  {
   "cell_type": "code",
   "execution_count": 43,
   "id": "5664f9c9",
   "metadata": {
    "execution": {
     "iopub.execute_input": "2023-08-05T13:35:51.909751Z",
     "iopub.status.busy": "2023-08-05T13:35:51.908857Z",
     "iopub.status.idle": "2023-08-05T13:35:51.967659Z",
     "shell.execute_reply": "2023-08-05T13:35:51.966542Z"
    },
    "papermill": {
     "duration": 0.08965,
     "end_time": "2023-08-05T13:35:51.970328",
     "exception": false,
     "start_time": "2023-08-05T13:35:51.880678",
     "status": "completed"
    },
    "tags": []
   },
   "outputs": [
    {
     "data": {
      "text/html": [
       "<div>\n",
       "<style scoped>\n",
       "    .dataframe tbody tr th:only-of-type {\n",
       "        vertical-align: middle;\n",
       "    }\n",
       "\n",
       "    .dataframe tbody tr th {\n",
       "        vertical-align: top;\n",
       "    }\n",
       "\n",
       "    .dataframe thead th {\n",
       "        text-align: right;\n",
       "    }\n",
       "</style>\n",
       "<table border=\"1\" class=\"dataframe\">\n",
       "  <thead>\n",
       "    <tr style=\"text-align: right;\">\n",
       "      <th></th>\n",
       "      <th>name</th>\n",
       "      <th>authors</th>\n",
       "      <th>narrators</th>\n",
       "      <th>audible_length_m</th>\n",
       "      <th>releasedate</th>\n",
       "      <th>language</th>\n",
       "      <th>audible_rating</th>\n",
       "      <th>rater_number</th>\n",
       "      <th>author_id</th>\n",
       "      <th>narrator_id</th>\n",
       "      <th>name_id</th>\n",
       "      <th>language_id</th>\n",
       "      <th>price_fixed</th>\n",
       "      <th>month</th>\n",
       "      <th>year</th>\n",
       "    </tr>\n",
       "  </thead>\n",
       "  <tbody>\n",
       "    <tr>\n",
       "      <th>0</th>\n",
       "      <td>Geronimo Stilton #11 &amp; #12</td>\n",
       "      <td>Geronimo Stilton</td>\n",
       "      <td>Bill Lobely</td>\n",
       "      <td>140</td>\n",
       "      <td>04-08-08</td>\n",
       "      <td>English</td>\n",
       "      <td>5.0</td>\n",
       "      <td>34</td>\n",
       "      <td>1</td>\n",
       "      <td>1</td>\n",
       "      <td>1</td>\n",
       "      <td>1</td>\n",
       "      <td>468.0</td>\n",
       "      <td>08</td>\n",
       "      <td>08</td>\n",
       "    </tr>\n",
       "    <tr>\n",
       "      <th>1</th>\n",
       "      <td>The Burning Maze</td>\n",
       "      <td>Rick Riordan</td>\n",
       "      <td>Robbie Daymond</td>\n",
       "      <td>788</td>\n",
       "      <td>01-05-18</td>\n",
       "      <td>English</td>\n",
       "      <td>4.5</td>\n",
       "      <td>41</td>\n",
       "      <td>2</td>\n",
       "      <td>2</td>\n",
       "      <td>2</td>\n",
       "      <td>1</td>\n",
       "      <td>820.0</td>\n",
       "      <td>05</td>\n",
       "      <td>18</td>\n",
       "    </tr>\n",
       "    <tr>\n",
       "      <th>2</th>\n",
       "      <td>The Deep End</td>\n",
       "      <td>Jeff Kinney</td>\n",
       "      <td>Dan Russell</td>\n",
       "      <td>123</td>\n",
       "      <td>06-11-20</td>\n",
       "      <td>English</td>\n",
       "      <td>4.5</td>\n",
       "      <td>38</td>\n",
       "      <td>3</td>\n",
       "      <td>3</td>\n",
       "      <td>3</td>\n",
       "      <td>1</td>\n",
       "      <td>410.0</td>\n",
       "      <td>11</td>\n",
       "      <td>20</td>\n",
       "    </tr>\n",
       "    <tr>\n",
       "      <th>3</th>\n",
       "      <td>Daughter of the Deep</td>\n",
       "      <td>Rick Riordan</td>\n",
       "      <td>Soneela Nankani</td>\n",
       "      <td>676</td>\n",
       "      <td>05-10-21</td>\n",
       "      <td>English</td>\n",
       "      <td>4.5</td>\n",
       "      <td>12</td>\n",
       "      <td>2</td>\n",
       "      <td>4</td>\n",
       "      <td>4</td>\n",
       "      <td>1</td>\n",
       "      <td>615.0</td>\n",
       "      <td>10</td>\n",
       "      <td>21</td>\n",
       "    </tr>\n",
       "    <tr>\n",
       "      <th>4</th>\n",
       "      <td>The Lightning Thief: Percy Jackson, Book 1</td>\n",
       "      <td>Rick Riordan</td>\n",
       "      <td>Jesse Bernstein</td>\n",
       "      <td>660</td>\n",
       "      <td>13-01-10</td>\n",
       "      <td>English</td>\n",
       "      <td>4.5</td>\n",
       "      <td>181</td>\n",
       "      <td>2</td>\n",
       "      <td>5</td>\n",
       "      <td>5</td>\n",
       "      <td>1</td>\n",
       "      <td>820.0</td>\n",
       "      <td>01</td>\n",
       "      <td>10</td>\n",
       "    </tr>\n",
       "  </tbody>\n",
       "</table>\n",
       "</div>"
      ],
      "text/plain": [
       "                                         name           authors  \\\n",
       "0                  Geronimo Stilton #11 & #12  Geronimo Stilton   \n",
       "1                            The Burning Maze      Rick Riordan   \n",
       "2                                The Deep End       Jeff Kinney   \n",
       "3                        Daughter of the Deep      Rick Riordan   \n",
       "4  The Lightning Thief: Percy Jackson, Book 1      Rick Riordan   \n",
       "\n",
       "         narrators  audible_length_m releasedate language  audible_rating  \\\n",
       "0      Bill Lobely               140    04-08-08  English             5.0   \n",
       "1   Robbie Daymond               788    01-05-18  English             4.5   \n",
       "2      Dan Russell               123    06-11-20  English             4.5   \n",
       "3  Soneela Nankani               676    05-10-21  English             4.5   \n",
       "4  Jesse Bernstein               660    13-01-10  English             4.5   \n",
       "\n",
       "   rater_number  author_id  narrator_id  name_id  language_id  price_fixed  \\\n",
       "0            34          1            1        1            1        468.0   \n",
       "1            41          2            2        2            1        820.0   \n",
       "2            38          3            3        3            1        410.0   \n",
       "3            12          2            4        4            1        615.0   \n",
       "4           181          2            5        5            1        820.0   \n",
       "\n",
       "  month year  \n",
       "0    08   08  \n",
       "1    05   18  \n",
       "2    11   20  \n",
       "3    10   21  \n",
       "4    01   10  "
      ]
     },
     "execution_count": 43,
     "metadata": {},
     "output_type": "execute_result"
    }
   ],
   "source": [
    "# Assigns the values to a list and then to a series\n",
    "year_series = pd.Series(year_list)\n",
    "# Adds a ability 1 col.\n",
    "df = df.assign(year = year_series)\n",
    "df.head()"
   ]
  },
  {
   "cell_type": "markdown",
   "id": "36d2d5f6",
   "metadata": {
    "papermill": {
     "duration": 0.026285,
     "end_time": "2023-08-05T13:35:52.024258",
     "exception": false,
     "start_time": "2023-08-05T13:35:51.997973",
     "status": "completed"
    },
    "tags": []
   },
   "source": [
    "**How many unique vals. per col.**"
   ]
  },
  {
   "cell_type": "code",
   "execution_count": 44,
   "id": "d3e476ea",
   "metadata": {
    "execution": {
     "iopub.execute_input": "2023-08-05T13:35:52.079756Z",
     "iopub.status.busy": "2023-08-05T13:35:52.078970Z",
     "iopub.status.idle": "2023-08-05T13:35:52.223354Z",
     "shell.execute_reply": "2023-08-05T13:35:52.222133Z"
    },
    "papermill": {
     "duration": 0.175045,
     "end_time": "2023-08-05T13:35:52.226007",
     "exception": false,
     "start_time": "2023-08-05T13:35:52.050962",
     "status": "completed"
    },
    "tags": []
   },
   "outputs": [
    {
     "name": "stdout",
     "output_type": "stream",
     "text": [
      "name: 82767\n",
      "authors: 48374\n",
      "narrators: 29717\n",
      "audible_length_m: 2280\n",
      "releasedate: 5058\n",
      "language: 36\n",
      "audible_rating: 11\n",
      "rater_number: 357\n",
      "author_id: 48374\n",
      "narrator_id: 29717\n",
      "name_id: 82767\n",
      "language_id: 36\n",
      "price_fixed: 1011\n",
      "month: 12\n",
      "year: 28\n"
     ]
    }
   ],
   "source": [
    "for col in df.columns:\n",
    "    print(f'{col}: {df[str(col)].nunique()}')"
   ]
  },
  {
   "cell_type": "code",
   "execution_count": 45,
   "id": "c782f934",
   "metadata": {
    "execution": {
     "iopub.execute_input": "2023-08-05T13:35:52.282049Z",
     "iopub.status.busy": "2023-08-05T13:35:52.281640Z",
     "iopub.status.idle": "2023-08-05T13:35:52.356852Z",
     "shell.execute_reply": "2023-08-05T13:35:52.355744Z"
    },
    "papermill": {
     "duration": 0.106709,
     "end_time": "2023-08-05T13:35:52.359545",
     "exception": false,
     "start_time": "2023-08-05T13:35:52.252836",
     "status": "completed"
    },
    "tags": []
   },
   "outputs": [],
   "source": [
    "df = df.convert_dtypes()"
   ]
  },
  {
   "cell_type": "code",
   "execution_count": 46,
   "id": "25d998e2",
   "metadata": {
    "execution": {
     "iopub.execute_input": "2023-08-05T13:35:52.416632Z",
     "iopub.status.busy": "2023-08-05T13:35:52.415871Z",
     "iopub.status.idle": "2023-08-05T13:35:52.499849Z",
     "shell.execute_reply": "2023-08-05T13:35:52.498349Z"
    },
    "papermill": {
     "duration": 0.115789,
     "end_time": "2023-08-05T13:35:52.502656",
     "exception": false,
     "start_time": "2023-08-05T13:35:52.386867",
     "status": "completed"
    },
    "tags": []
   },
   "outputs": [
    {
     "name": "stdout",
     "output_type": "stream",
     "text": [
      "<class 'pandas.core.frame.DataFrame'>\n",
      "RangeIndex: 87489 entries, 0 to 87488\n",
      "Data columns (total 15 columns):\n",
      " #   Column            Non-Null Count  Dtype  \n",
      "---  ------            --------------  -----  \n",
      " 0   name              87489 non-null  string \n",
      " 1   authors           87489 non-null  string \n",
      " 2   narrators         87489 non-null  string \n",
      " 3   audible_length_m  87489 non-null  Int64  \n",
      " 4   releasedate       87489 non-null  string \n",
      " 5   language          87489 non-null  string \n",
      " 6   audible_rating    87489 non-null  Float64\n",
      " 7   rater_number      87489 non-null  Int64  \n",
      " 8   author_id         87489 non-null  Int64  \n",
      " 9   narrator_id       87489 non-null  Int64  \n",
      " 10  name_id           87489 non-null  Int64  \n",
      " 11  language_id       87489 non-null  Int64  \n",
      " 12  price_fixed       87489 non-null  Float64\n",
      " 13  month             87489 non-null  string \n",
      " 14  year              87489 non-null  string \n",
      "dtypes: Float64(2), Int64(6), string(7)\n",
      "memory usage: 10.7 MB\n"
     ]
    }
   ],
   "source": [
    "df.info()"
   ]
  },
  {
   "cell_type": "markdown",
   "id": "ee43e738",
   "metadata": {
    "papermill": {
     "duration": 0.027385,
     "end_time": "2023-08-05T13:35:52.557766",
     "exception": false,
     "start_time": "2023-08-05T13:35:52.530381",
     "status": "completed"
    },
    "tags": []
   },
   "source": [
    "**Month and Year id col.**"
   ]
  },
  {
   "cell_type": "code",
   "execution_count": 47,
   "id": "dc48decf",
   "metadata": {
    "execution": {
     "iopub.execute_input": "2023-08-05T13:35:52.614292Z",
     "iopub.status.busy": "2023-08-05T13:35:52.613905Z",
     "iopub.status.idle": "2023-08-05T13:35:52.667879Z",
     "shell.execute_reply": "2023-08-05T13:35:52.666680Z"
    },
    "papermill": {
     "duration": 0.085347,
     "end_time": "2023-08-05T13:35:52.670689",
     "exception": false,
     "start_time": "2023-08-05T13:35:52.585342",
     "status": "completed"
    },
    "tags": []
   },
   "outputs": [],
   "source": [
    "df['month_id'] = pd.factorize(df['month'])[0] + 1\n",
    "df['year_id'] = pd.factorize(df['year'])[0] + 1"
   ]
  },
  {
   "cell_type": "code",
   "execution_count": 48,
   "id": "915f339b",
   "metadata": {
    "execution": {
     "iopub.execute_input": "2023-08-05T13:35:52.726863Z",
     "iopub.status.busy": "2023-08-05T13:35:52.726428Z",
     "iopub.status.idle": "2023-08-05T13:35:52.833316Z",
     "shell.execute_reply": "2023-08-05T13:35:52.832113Z"
    },
    "papermill": {
     "duration": 0.13841,
     "end_time": "2023-08-05T13:35:52.836157",
     "exception": false,
     "start_time": "2023-08-05T13:35:52.697747",
     "status": "completed"
    },
    "tags": []
   },
   "outputs": [],
   "source": [
    "df = df.convert_dtypes()"
   ]
  },
  {
   "cell_type": "code",
   "execution_count": 49,
   "id": "178d7d68",
   "metadata": {
    "execution": {
     "iopub.execute_input": "2023-08-05T13:35:52.894156Z",
     "iopub.status.busy": "2023-08-05T13:35:52.893754Z",
     "iopub.status.idle": "2023-08-05T13:35:52.980263Z",
     "shell.execute_reply": "2023-08-05T13:35:52.978813Z"
    },
    "papermill": {
     "duration": 0.118579,
     "end_time": "2023-08-05T13:35:52.983032",
     "exception": false,
     "start_time": "2023-08-05T13:35:52.864453",
     "status": "completed"
    },
    "tags": []
   },
   "outputs": [
    {
     "name": "stdout",
     "output_type": "stream",
     "text": [
      "<class 'pandas.core.frame.DataFrame'>\n",
      "RangeIndex: 87489 entries, 0 to 87488\n",
      "Data columns (total 17 columns):\n",
      " #   Column            Non-Null Count  Dtype  \n",
      "---  ------            --------------  -----  \n",
      " 0   name              87489 non-null  string \n",
      " 1   authors           87489 non-null  string \n",
      " 2   narrators         87489 non-null  string \n",
      " 3   audible_length_m  87489 non-null  Int64  \n",
      " 4   releasedate       87489 non-null  string \n",
      " 5   language          87489 non-null  string \n",
      " 6   audible_rating    87489 non-null  Float64\n",
      " 7   rater_number      87489 non-null  Int64  \n",
      " 8   author_id         87489 non-null  Int64  \n",
      " 9   narrator_id       87489 non-null  Int64  \n",
      " 10  name_id           87489 non-null  Int64  \n",
      " 11  language_id       87489 non-null  Int64  \n",
      " 12  price_fixed       87489 non-null  Float64\n",
      " 13  month             87489 non-null  string \n",
      " 14  year              87489 non-null  string \n",
      " 15  month_id          87489 non-null  Int64  \n",
      " 16  year_id           87489 non-null  Int64  \n",
      "dtypes: Float64(2), Int64(8), string(7)\n",
      "memory usage: 12.2 MB\n"
     ]
    }
   ],
   "source": [
    "df.info()"
   ]
  },
  {
   "cell_type": "markdown",
   "id": "47a46dc4",
   "metadata": {
    "papermill": {
     "duration": 0.026728,
     "end_time": "2023-08-05T13:35:53.037769",
     "exception": false,
     "start_time": "2023-08-05T13:35:53.011041",
     "status": "completed"
    },
    "tags": []
   },
   "source": [
    "# Feature Selection"
   ]
  },
  {
   "cell_type": "code",
   "execution_count": 50,
   "id": "f65c5d7c",
   "metadata": {
    "execution": {
     "iopub.execute_input": "2023-08-05T13:35:53.094285Z",
     "iopub.status.busy": "2023-08-05T13:35:53.093847Z",
     "iopub.status.idle": "2023-08-05T13:35:53.100872Z",
     "shell.execute_reply": "2023-08-05T13:35:53.099546Z"
    },
    "papermill": {
     "duration": 0.038397,
     "end_time": "2023-08-05T13:35:53.103237",
     "exception": false,
     "start_time": "2023-08-05T13:35:53.064840",
     "status": "completed"
    },
    "tags": []
   },
   "outputs": [],
   "source": [
    "quant_df = df[['name_id','author_id', 'narrator_id', 'audible_length_m',\n",
    "               'language_id','price_fixed','month_id', 'year_id', 'audible_rating', 'rater_number']]"
   ]
  },
  {
   "cell_type": "markdown",
   "id": "37724647",
   "metadata": {
    "papermill": {
     "duration": 0.026763,
     "end_time": "2023-08-05T13:35:53.156980",
     "exception": false,
     "start_time": "2023-08-05T13:35:53.130217",
     "status": "completed"
    },
    "tags": []
   },
   "source": [
    "**Heatmap**"
   ]
  },
  {
   "cell_type": "code",
   "execution_count": 51,
   "id": "00fae85b",
   "metadata": {
    "execution": {
     "iopub.execute_input": "2023-08-05T13:35:53.213033Z",
     "iopub.status.busy": "2023-08-05T13:35:53.212601Z",
     "iopub.status.idle": "2023-08-05T13:35:53.730793Z",
     "shell.execute_reply": "2023-08-05T13:35:53.729571Z"
    },
    "papermill": {
     "duration": 0.549505,
     "end_time": "2023-08-05T13:35:53.733512",
     "exception": false,
     "start_time": "2023-08-05T13:35:53.184007",
     "status": "completed"
    },
    "tags": []
   },
   "outputs": [
    {
     "data": {
      "text/html": [
       "        <script type=\"text/javascript\">\n",
       "        window.PlotlyConfig = {MathJaxConfig: 'local'};\n",
       "        if (window.MathJax && window.MathJax.Hub && window.MathJax.Hub.Config) {window.MathJax.Hub.Config({SVG: {font: \"STIX-Web\"}});}\n",
       "        if (typeof require !== 'undefined') {\n",
       "        require.undef(\"plotly\");\n",
       "        requirejs.config({\n",
       "            paths: {\n",
       "                'plotly': ['https://cdn.plot.ly/plotly-2.24.1.min']\n",
       "            }\n",
       "        });\n",
       "        require(['plotly'], function(Plotly) {\n",
       "            window._Plotly = Plotly;\n",
       "        });\n",
       "        }\n",
       "        </script>\n",
       "        "
      ]
     },
     "metadata": {},
     "output_type": "display_data"
    },
    {
     "data": {
      "text/html": [
       "<div>                            <div id=\"bf604273-3328-46cb-a70d-7a8cf2e41948\" class=\"plotly-graph-div\" style=\"height:600px; width:100%;\"></div>            <script type=\"text/javascript\">                require([\"plotly\"], function(Plotly) {                    window.PLOTLYENV=window.PLOTLYENV || {};                                    if (document.getElementById(\"bf604273-3328-46cb-a70d-7a8cf2e41948\")) {                    Plotly.newPlot(                        \"bf604273-3328-46cb-a70d-7a8cf2e41948\",                        [{\"colorbar\":{\"title\":{\"text\":\"Correlation\"}},\"colorscale\":[[0.0,\"rgb(103,0,31)\"],[0.1,\"rgb(178,24,43)\"],[0.2,\"rgb(214,96,77)\"],[0.3,\"rgb(244,165,130)\"],[0.4,\"rgb(253,219,199)\"],[0.5,\"rgb(247,247,247)\"],[0.6,\"rgb(209,229,240)\"],[0.7,\"rgb(146,197,222)\"],[0.8,\"rgb(67,147,195)\"],[0.9,\"rgb(33,102,172)\"],[1.0,\"rgb(5,48,97)\"]],\"x\":[\"name_id\",\"author_id\",\"narrator_id\",\"audible_length_m\",\"language_id\",\"price_fixed\",\"month_id\",\"year_id\",\"audible_rating\",\"rater_number\"],\"y\":[\"name_id\",\"author_id\",\"narrator_id\",\"audible_length_m\",\"language_id\",\"price_fixed\",\"month_id\",\"year_id\",\"audible_rating\",\"rater_number\"],\"z\":[[1.0,0.8091963012250465,0.5365519460367556,0.2108297318696824,-0.012726129271631463,0.1844034725924517,-0.0054023363672277185,-0.029722366903263655,0.0003786700437979456,-0.008411120857410003],[0.8091963012250465,1.0,0.5253176577272554,0.21761662435737886,-0.02734606741510807,0.20659471718925335,-0.0035968217349719622,-0.04041907598007631,-0.02632981490917435,-0.024176804529473923],[0.5365519460367556,0.5253176577272554,1.0,0.05570965628327949,0.10067734352566739,0.04302141776305977,-0.00457029265678408,-0.033025589188498315,-0.01883044078758411,-0.014040878363004956],[0.2108297318696824,0.21761662435737886,0.05570965628327949,1.0,-0.1974179223437806,0.615229937238158,-0.011481105366887956,-0.052599848358112676,0.16520632805238003,0.04905308135910107],[-0.012726129271631463,-0.02734606741510807,0.10067734352566739,-0.1974179223437806,1.0,-0.2808995870814105,-0.0437444506873618,-0.02630115796343876,-0.18679884018625328,-0.040903896409307694],[0.1844034725924517,0.20659471718925335,0.04302141776305977,0.615229937238158,-0.2808995870814105,1.0,-0.013425238445860832,-0.04741196071050757,0.17663614155243604,0.04423509964534541],[-0.0054023363672277185,-0.0035968217349719622,-0.00457029265678408,-0.011481105366887956,-0.0437444506873618,-0.013425238445860832,1.0,0.15008304762911864,-0.014687740737040902,-0.005268163969791624],[-0.029722366903263655,-0.04041907598007631,-0.033025589188498315,-0.052599848358112676,-0.02630115796343876,-0.04741196071050757,0.15008304762911864,1.0,-0.0180953505642845,-0.002532538471616048],[0.0003786700437979456,-0.02632981490917435,-0.01883044078758411,0.16520632805238003,-0.18679884018625328,0.17663614155243604,-0.014687740737040902,-0.0180953505642845,1.0,0.22827450912333683],[-0.008411120857410003,-0.024176804529473923,-0.014040878363004956,0.04905308135910107,-0.040903896409307694,0.04423509964534541,-0.005268163969791624,-0.002532538471616048,0.22827450912333683,1.0]],\"type\":\"heatmap\"}],                        {\"template\":{\"data\":{\"histogram2dcontour\":[{\"type\":\"histogram2dcontour\",\"colorbar\":{\"outlinewidth\":0,\"ticks\":\"\"},\"colorscale\":[[0.0,\"#0d0887\"],[0.1111111111111111,\"#46039f\"],[0.2222222222222222,\"#7201a8\"],[0.3333333333333333,\"#9c179e\"],[0.4444444444444444,\"#bd3786\"],[0.5555555555555556,\"#d8576b\"],[0.6666666666666666,\"#ed7953\"],[0.7777777777777778,\"#fb9f3a\"],[0.8888888888888888,\"#fdca26\"],[1.0,\"#f0f921\"]]}],\"choropleth\":[{\"type\":\"choropleth\",\"colorbar\":{\"outlinewidth\":0,\"ticks\":\"\"}}],\"histogram2d\":[{\"type\":\"histogram2d\",\"colorbar\":{\"outlinewidth\":0,\"ticks\":\"\"},\"colorscale\":[[0.0,\"#0d0887\"],[0.1111111111111111,\"#46039f\"],[0.2222222222222222,\"#7201a8\"],[0.3333333333333333,\"#9c179e\"],[0.4444444444444444,\"#bd3786\"],[0.5555555555555556,\"#d8576b\"],[0.6666666666666666,\"#ed7953\"],[0.7777777777777778,\"#fb9f3a\"],[0.8888888888888888,\"#fdca26\"],[1.0,\"#f0f921\"]]}],\"heatmap\":[{\"type\":\"heatmap\",\"colorbar\":{\"outlinewidth\":0,\"ticks\":\"\"},\"colorscale\":[[0.0,\"#0d0887\"],[0.1111111111111111,\"#46039f\"],[0.2222222222222222,\"#7201a8\"],[0.3333333333333333,\"#9c179e\"],[0.4444444444444444,\"#bd3786\"],[0.5555555555555556,\"#d8576b\"],[0.6666666666666666,\"#ed7953\"],[0.7777777777777778,\"#fb9f3a\"],[0.8888888888888888,\"#fdca26\"],[1.0,\"#f0f921\"]]}],\"heatmapgl\":[{\"type\":\"heatmapgl\",\"colorbar\":{\"outlinewidth\":0,\"ticks\":\"\"},\"colorscale\":[[0.0,\"#0d0887\"],[0.1111111111111111,\"#46039f\"],[0.2222222222222222,\"#7201a8\"],[0.3333333333333333,\"#9c179e\"],[0.4444444444444444,\"#bd3786\"],[0.5555555555555556,\"#d8576b\"],[0.6666666666666666,\"#ed7953\"],[0.7777777777777778,\"#fb9f3a\"],[0.8888888888888888,\"#fdca26\"],[1.0,\"#f0f921\"]]}],\"contourcarpet\":[{\"type\":\"contourcarpet\",\"colorbar\":{\"outlinewidth\":0,\"ticks\":\"\"}}],\"contour\":[{\"type\":\"contour\",\"colorbar\":{\"outlinewidth\":0,\"ticks\":\"\"},\"colorscale\":[[0.0,\"#0d0887\"],[0.1111111111111111,\"#46039f\"],[0.2222222222222222,\"#7201a8\"],[0.3333333333333333,\"#9c179e\"],[0.4444444444444444,\"#bd3786\"],[0.5555555555555556,\"#d8576b\"],[0.6666666666666666,\"#ed7953\"],[0.7777777777777778,\"#fb9f3a\"],[0.8888888888888888,\"#fdca26\"],[1.0,\"#f0f921\"]]}],\"surface\":[{\"type\":\"surface\",\"colorbar\":{\"outlinewidth\":0,\"ticks\":\"\"},\"colorscale\":[[0.0,\"#0d0887\"],[0.1111111111111111,\"#46039f\"],[0.2222222222222222,\"#7201a8\"],[0.3333333333333333,\"#9c179e\"],[0.4444444444444444,\"#bd3786\"],[0.5555555555555556,\"#d8576b\"],[0.6666666666666666,\"#ed7953\"],[0.7777777777777778,\"#fb9f3a\"],[0.8888888888888888,\"#fdca26\"],[1.0,\"#f0f921\"]]}],\"mesh3d\":[{\"type\":\"mesh3d\",\"colorbar\":{\"outlinewidth\":0,\"ticks\":\"\"}}],\"scatter\":[{\"fillpattern\":{\"fillmode\":\"overlay\",\"size\":10,\"solidity\":0.2},\"type\":\"scatter\"}],\"parcoords\":[{\"type\":\"parcoords\",\"line\":{\"colorbar\":{\"outlinewidth\":0,\"ticks\":\"\"}}}],\"scatterpolargl\":[{\"type\":\"scatterpolargl\",\"marker\":{\"colorbar\":{\"outlinewidth\":0,\"ticks\":\"\"}}}],\"bar\":[{\"error_x\":{\"color\":\"#2a3f5f\"},\"error_y\":{\"color\":\"#2a3f5f\"},\"marker\":{\"line\":{\"color\":\"#E5ECF6\",\"width\":0.5},\"pattern\":{\"fillmode\":\"overlay\",\"size\":10,\"solidity\":0.2}},\"type\":\"bar\"}],\"scattergeo\":[{\"type\":\"scattergeo\",\"marker\":{\"colorbar\":{\"outlinewidth\":0,\"ticks\":\"\"}}}],\"scatterpolar\":[{\"type\":\"scatterpolar\",\"marker\":{\"colorbar\":{\"outlinewidth\":0,\"ticks\":\"\"}}}],\"histogram\":[{\"marker\":{\"pattern\":{\"fillmode\":\"overlay\",\"size\":10,\"solidity\":0.2}},\"type\":\"histogram\"}],\"scattergl\":[{\"type\":\"scattergl\",\"marker\":{\"colorbar\":{\"outlinewidth\":0,\"ticks\":\"\"}}}],\"scatter3d\":[{\"type\":\"scatter3d\",\"line\":{\"colorbar\":{\"outlinewidth\":0,\"ticks\":\"\"}},\"marker\":{\"colorbar\":{\"outlinewidth\":0,\"ticks\":\"\"}}}],\"scattermapbox\":[{\"type\":\"scattermapbox\",\"marker\":{\"colorbar\":{\"outlinewidth\":0,\"ticks\":\"\"}}}],\"scatterternary\":[{\"type\":\"scatterternary\",\"marker\":{\"colorbar\":{\"outlinewidth\":0,\"ticks\":\"\"}}}],\"scattercarpet\":[{\"type\":\"scattercarpet\",\"marker\":{\"colorbar\":{\"outlinewidth\":0,\"ticks\":\"\"}}}],\"carpet\":[{\"aaxis\":{\"endlinecolor\":\"#2a3f5f\",\"gridcolor\":\"white\",\"linecolor\":\"white\",\"minorgridcolor\":\"white\",\"startlinecolor\":\"#2a3f5f\"},\"baxis\":{\"endlinecolor\":\"#2a3f5f\",\"gridcolor\":\"white\",\"linecolor\":\"white\",\"minorgridcolor\":\"white\",\"startlinecolor\":\"#2a3f5f\"},\"type\":\"carpet\"}],\"table\":[{\"cells\":{\"fill\":{\"color\":\"#EBF0F8\"},\"line\":{\"color\":\"white\"}},\"header\":{\"fill\":{\"color\":\"#C8D4E3\"},\"line\":{\"color\":\"white\"}},\"type\":\"table\"}],\"barpolar\":[{\"marker\":{\"line\":{\"color\":\"#E5ECF6\",\"width\":0.5},\"pattern\":{\"fillmode\":\"overlay\",\"size\":10,\"solidity\":0.2}},\"type\":\"barpolar\"}],\"pie\":[{\"automargin\":true,\"type\":\"pie\"}]},\"layout\":{\"autotypenumbers\":\"strict\",\"colorway\":[\"#636efa\",\"#EF553B\",\"#00cc96\",\"#ab63fa\",\"#FFA15A\",\"#19d3f3\",\"#FF6692\",\"#B6E880\",\"#FF97FF\",\"#FECB52\"],\"font\":{\"color\":\"#2a3f5f\"},\"hovermode\":\"closest\",\"hoverlabel\":{\"align\":\"left\"},\"paper_bgcolor\":\"white\",\"plot_bgcolor\":\"#E5ECF6\",\"polar\":{\"bgcolor\":\"#E5ECF6\",\"angularaxis\":{\"gridcolor\":\"white\",\"linecolor\":\"white\",\"ticks\":\"\"},\"radialaxis\":{\"gridcolor\":\"white\",\"linecolor\":\"white\",\"ticks\":\"\"}},\"ternary\":{\"bgcolor\":\"#E5ECF6\",\"aaxis\":{\"gridcolor\":\"white\",\"linecolor\":\"white\",\"ticks\":\"\"},\"baxis\":{\"gridcolor\":\"white\",\"linecolor\":\"white\",\"ticks\":\"\"},\"caxis\":{\"gridcolor\":\"white\",\"linecolor\":\"white\",\"ticks\":\"\"}},\"coloraxis\":{\"colorbar\":{\"outlinewidth\":0,\"ticks\":\"\"}},\"colorscale\":{\"sequential\":[[0.0,\"#0d0887\"],[0.1111111111111111,\"#46039f\"],[0.2222222222222222,\"#7201a8\"],[0.3333333333333333,\"#9c179e\"],[0.4444444444444444,\"#bd3786\"],[0.5555555555555556,\"#d8576b\"],[0.6666666666666666,\"#ed7953\"],[0.7777777777777778,\"#fb9f3a\"],[0.8888888888888888,\"#fdca26\"],[1.0,\"#f0f921\"]],\"sequentialminus\":[[0.0,\"#0d0887\"],[0.1111111111111111,\"#46039f\"],[0.2222222222222222,\"#7201a8\"],[0.3333333333333333,\"#9c179e\"],[0.4444444444444444,\"#bd3786\"],[0.5555555555555556,\"#d8576b\"],[0.6666666666666666,\"#ed7953\"],[0.7777777777777778,\"#fb9f3a\"],[0.8888888888888888,\"#fdca26\"],[1.0,\"#f0f921\"]],\"diverging\":[[0,\"#8e0152\"],[0.1,\"#c51b7d\"],[0.2,\"#de77ae\"],[0.3,\"#f1b6da\"],[0.4,\"#fde0ef\"],[0.5,\"#f7f7f7\"],[0.6,\"#e6f5d0\"],[0.7,\"#b8e186\"],[0.8,\"#7fbc41\"],[0.9,\"#4d9221\"],[1,\"#276419\"]]},\"xaxis\":{\"gridcolor\":\"white\",\"linecolor\":\"white\",\"ticks\":\"\",\"title\":{\"standoff\":15},\"zerolinecolor\":\"white\",\"automargin\":true,\"zerolinewidth\":2},\"yaxis\":{\"gridcolor\":\"white\",\"linecolor\":\"white\",\"ticks\":\"\",\"title\":{\"standoff\":15},\"zerolinecolor\":\"white\",\"automargin\":true,\"zerolinewidth\":2},\"scene\":{\"xaxis\":{\"backgroundcolor\":\"#E5ECF6\",\"gridcolor\":\"white\",\"linecolor\":\"white\",\"showbackground\":true,\"ticks\":\"\",\"zerolinecolor\":\"white\",\"gridwidth\":2},\"yaxis\":{\"backgroundcolor\":\"#E5ECF6\",\"gridcolor\":\"white\",\"linecolor\":\"white\",\"showbackground\":true,\"ticks\":\"\",\"zerolinecolor\":\"white\",\"gridwidth\":2},\"zaxis\":{\"backgroundcolor\":\"#E5ECF6\",\"gridcolor\":\"white\",\"linecolor\":\"white\",\"showbackground\":true,\"ticks\":\"\",\"zerolinecolor\":\"white\",\"gridwidth\":2}},\"shapedefaults\":{\"line\":{\"color\":\"#2a3f5f\"}},\"annotationdefaults\":{\"arrowcolor\":\"#2a3f5f\",\"arrowhead\":0,\"arrowwidth\":1},\"geo\":{\"bgcolor\":\"white\",\"landcolor\":\"#E5ECF6\",\"subunitcolor\":\"white\",\"showland\":true,\"showlakes\":true,\"lakecolor\":\"white\"},\"title\":{\"x\":0.05},\"mapbox\":{\"style\":\"light\"}}},\"xaxis\":{\"tickfont\":{\"size\":10},\"title\":{\"text\":\"Columns\"},\"tickangle\":-45,\"automargin\":true},\"yaxis\":{\"tickfont\":{\"size\":10},\"title\":{\"text\":\"Columns\"},\"autorange\":\"reversed\",\"tickangle\":0,\"automargin\":true},\"title\":{\"text\":\"Audible Correlation Heatmap\"},\"height\":600},                        {\"responsive\": true}                    ).then(function(){\n",
       "                            \n",
       "var gd = document.getElementById('bf604273-3328-46cb-a70d-7a8cf2e41948');\n",
       "var x = new MutationObserver(function (mutations, observer) {{\n",
       "        var display = window.getComputedStyle(gd).display;\n",
       "        if (!display || display === 'none') {{\n",
       "            console.log([gd, 'removed!']);\n",
       "            Plotly.purge(gd);\n",
       "            observer.disconnect();\n",
       "        }}\n",
       "}});\n",
       "\n",
       "// Listen for the removal of the full notebook cells\n",
       "var notebookContainer = gd.closest('#notebook-container');\n",
       "if (notebookContainer) {{\n",
       "    x.observe(notebookContainer, {childList: true});\n",
       "}}\n",
       "\n",
       "// Listen for the clearing of the current output cell\n",
       "var outputEl = gd.closest('.output');\n",
       "if (outputEl) {{\n",
       "    x.observe(outputEl, {childList: true});\n",
       "}}\n",
       "\n",
       "                        })                };                });            </script>        </div>"
      ]
     },
     "metadata": {},
     "output_type": "display_data"
    }
   ],
   "source": [
    "df_correlation = quant_df.corr()\n",
    "\n",
    "# Heatmap \n",
    "fig = go.Figure(data=go.Heatmap(\n",
    "    z=df_correlation.values,\n",
    "    x=df_correlation.columns,\n",
    "    y=df_correlation.columns,\n",
    "    colorscale='RdBu',\n",
    "    colorbar=dict(title='Correlation'),\n",
    "))\n",
    "\n",
    "# Heatmap layout\n",
    "fig.update_layout(\n",
    "    title='Audible Correlation Heatmap',\n",
    "    xaxis=dict(title='Columns', tickangle=-45, automargin=True, tickfont=dict(size=10)),\n",
    "    yaxis=dict(title='Columns', autorange='reversed', tickangle=0, automargin=True, tickfont=dict(size=10)),\n",
    "    height=600,\n",
    ")\n",
    "\n",
    "fig.show()"
   ]
  },
  {
   "cell_type": "markdown",
   "id": "1714d01e",
   "metadata": {
    "papermill": {
     "duration": 0.027488,
     "end_time": "2023-08-05T13:35:53.789373",
     "exception": false,
     "start_time": "2023-08-05T13:35:53.761885",
     "status": "completed"
    },
    "tags": []
   },
   "source": [
    "**Mutual Information Score**"
   ]
  },
  {
   "cell_type": "code",
   "execution_count": 52,
   "id": "21b15819",
   "metadata": {
    "execution": {
     "iopub.execute_input": "2023-08-05T13:35:53.847566Z",
     "iopub.status.busy": "2023-08-05T13:35:53.847106Z",
     "iopub.status.idle": "2023-08-05T13:36:00.093695Z",
     "shell.execute_reply": "2023-08-05T13:36:00.092397Z"
    },
    "papermill": {
     "duration": 6.278964,
     "end_time": "2023-08-05T13:36:00.096429",
     "exception": false,
     "start_time": "2023-08-05T13:35:53.817465",
     "status": "completed"
    },
    "tags": []
   },
   "outputs": [
    {
     "data": {
      "text/plain": [
       "rater_number        0.506796\n",
       "name_id             0.173970\n",
       "author_id           0.169312\n",
       "narrator_id         0.131553\n",
       "language_id         0.066356\n",
       "price_fixed         0.062609\n",
       "year_id             0.033356\n",
       "audible_length_m    0.020773\n",
       "month_id            0.000143\n",
       "Name: MI Scores, dtype: float64"
      ]
     },
     "execution_count": 52,
     "metadata": {},
     "output_type": "execute_result"
    }
   ],
   "source": [
    "def calc_mi_score(X, y, df):\n",
    "    mi_scores = mutual_info_regression(X, y, discrete_features=df)\n",
    "    \n",
    "    # Create an MI scores Series\n",
    "    mi_scores = pd.Series(mi_scores, name=\"MI Scores\", index=X.columns)\n",
    "    \n",
    "    # Sort the MI scores in descending order\n",
    "    mi_scores = mi_scores.sort_values(ascending=False)\n",
    "    \n",
    "    return mi_scores\n",
    "\n",
    "# Relevant features and labels\n",
    "X = quant_df.select_dtypes(include=np.number).copy()\n",
    "y = X.pop('audible_rating')\n",
    "\n",
    "# Qualitative discrete features of the dataset (integer colls.)\n",
    "discrete_feat = X.dtypes == float\n",
    "\n",
    "mi_scores = calc_mi_score(X, y, discrete_feat)\n",
    "mi_scores"
   ]
  },
  {
   "cell_type": "code",
   "execution_count": 53,
   "id": "9ff95f0a",
   "metadata": {
    "execution": {
     "iopub.execute_input": "2023-08-05T13:36:00.154010Z",
     "iopub.status.busy": "2023-08-05T13:36:00.153608Z",
     "iopub.status.idle": "2023-08-05T13:36:00.515618Z",
     "shell.execute_reply": "2023-08-05T13:36:00.514268Z"
    },
    "papermill": {
     "duration": 0.394038,
     "end_time": "2023-08-05T13:36:00.518263",
     "exception": false,
     "start_time": "2023-08-05T13:36:00.124225",
     "status": "completed"
    },
    "tags": []
   },
   "outputs": [
    {
     "data": {
      "image/png": "[encoded data removed]",
      "text/plain": [
       "<Figure size 640x480 with 1 Axes>"
      ]
     },
     "metadata": {},
     "output_type": "display_data"
    }
   ],
   "source": [
    "def plot_mi(scores):\n",
    "    # Sort scores in ascending order\n",
    "    scores = scores.sort_values(ascending=True)\n",
    "    \n",
    "    # Extract scores and feature names\n",
    "    width = scores\n",
    "    ticks = scores.index\n",
    "    \n",
    "    # Bar chart\n",
    "    sns.barplot(x=width, y=ticks, orient='h')\n",
    "    \n",
    "    plt.title(\"Mutual Information Scores\")\n",
    "    plt.ylabel(\"Features\")\n",
    "    plt.xlabel(\"Mutual Information Score\")\n",
    "    \n",
    "    plt.show()\n",
    "plot_mi(mi_scores)"
   ]
  },
  {
   "cell_type": "markdown",
   "id": "9795ef01",
   "metadata": {
    "papermill": {
     "duration": 0.028512,
     "end_time": "2023-08-05T13:36:00.575340",
     "exception": false,
     "start_time": "2023-08-05T13:36:00.546828",
     "status": "completed"
    },
    "tags": []
   },
   "source": [
    "**Determine feature importance through Random Forest models**"
   ]
  },
  {
   "cell_type": "code",
   "execution_count": 54,
   "id": "5609cb3f",
   "metadata": {
    "execution": {
     "iopub.execute_input": "2023-08-05T13:36:00.634392Z",
     "iopub.status.busy": "2023-08-05T13:36:00.634003Z",
     "iopub.status.idle": "2023-08-05T13:36:00.660219Z",
     "shell.execute_reply": "2023-08-05T13:36:00.659038Z"
    },
    "papermill": {
     "duration": 0.058738,
     "end_time": "2023-08-05T13:36:00.663042",
     "exception": false,
     "start_time": "2023-08-05T13:36:00.604304",
     "status": "completed"
    },
    "tags": []
   },
   "outputs": [],
   "source": [
    "X_df = df[['audible_length_m','rater_number','author_id',   \n",
    "            'narrator_id','name_id','language_id','price_fixed','month_id','year_id']]\n",
    "\n",
    "normalized_X = (X_df-X_df.mean())/X_df.std()"
   ]
  },
  {
   "cell_type": "code",
   "execution_count": 55,
   "id": "b0cdc8f8",
   "metadata": {
    "execution": {
     "iopub.execute_input": "2023-08-05T13:36:00.721590Z",
     "iopub.status.busy": "2023-08-05T13:36:00.721123Z",
     "iopub.status.idle": "2023-08-05T13:36:12.598652Z",
     "shell.execute_reply": "2023-08-05T13:36:12.597450Z"
    },
    "papermill": {
     "duration": 11.910027,
     "end_time": "2023-08-05T13:36:12.601466",
     "exception": false,
     "start_time": "2023-08-05T13:36:00.691439",
     "status": "completed"
    },
    "tags": []
   },
   "outputs": [
    {
     "data": {
      "text/plain": [
       "Text(0.5, 1.0, 'Audible Feature Importance')"
      ]
     },
     "execution_count": 55,
     "metadata": {},
     "output_type": "execute_result"
    },
    {
     "data": {
      "image/png": "[encoded data removed]",
      "text/plain": [
       "<Figure size 640x480 with 1 Axes>"
      ]
     },
     "metadata": {},
     "output_type": "display_data"
    }
   ],
   "source": [
    "X_train, X_test, y_train, y_test = train_test_split(X, y, random_state = 0)\n",
    "rf = RandomForestRegressor(n_estimators=100, random_state=42)\n",
    "rf.fit(X_train, y_train)\n",
    "\n",
    "global_importances = pd.Series(rf.feature_importances_, index=normalized_X.columns)\n",
    "global_importances.sort_values(ascending=True, inplace=True)\n",
    "global_importances.plot.barh(color='green')\n",
    "plt.xlabel(\"Importance\")\n",
    "plt.ylabel(\"Feature\")\n",
    "plt.title(\"Audible Feature Importance\")"
   ]
  }
 ],
 "metadata": {
  "kernelspec": {
   "display_name": "Python 3",
   "language": "python",
   "name": "python3"
  },
  "language_info": {
   "codemirror_mode": {
    "name": "ipython",
    "version": 3
   },
   "file_extension": ".py",
   "mimetype": "text/x-python",
   "name": "python",
   "nbconvert_exporter": "python",
   "pygments_lexer": "ipython3",
   "version": "3.10.12"
  },
  "papermill": {
   "default_parameters": {},
   "duration": 49.179095,
   "end_time": "2023-08-05T13:36:13.957664",
   "environment_variables": {},
   "exception": null,
   "input_path": "__notebook__.ipynb",
   "output_path": "__notebook__.ipynb",
   "parameters": {},
   "start_time": "2023-08-05T13:35:24.778569",
   "version": "2.4.0"
  }
 },
 "nbformat": 4,
 "nbformat_minor": 5
}
